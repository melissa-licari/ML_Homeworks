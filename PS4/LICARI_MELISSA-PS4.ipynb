{
 "cells": [
  {
   "cell_type": "code",
   "execution_count": null,
   "metadata": {
    "id": "NydJC_ukpxRJ"
   },
   "outputs": [],
   "source": []
  },
  {
   "cell_type": "markdown",
   "metadata": {
    "id": "ckWwG9pdjl7E"
   },
   "source": [
    "\n",
    "This is a fun but challenging problem set. It will test your python skills, as well as your understanding of the material in class and in the readings. Start early and debug often! Some notes:\n",
    "\n",
    "* Part 1 is meant to be easy, so get through it quickly.\n",
    "* Part 2 (especially 2.1) will be difficult, but it is the lynchpin of this problem set to make sure to do it well and understand what you've done. If you find your gradient descent algorithm is taking more than a few minutes to complete, debug more, compare notes with others, and go to the Lab sessions (especially the sections on vectorized computation and computational efficiency).\n",
    "* Depending on how well you've done 2.1, parts 2.3 and 4.3 will be relatively painless or incredibly painful. \n",
    "\n",
    "* Part 4 (especially 4.3) will be computationally intensive. Don't leave this until the last minute, otherwise your code might be running when the deadline arrives.\n",
    "\n",
    "* Do the extra credit problems last. This can help you increase your scores"
   ]
  },
  {
   "cell_type": "markdown",
   "metadata": {
    "id": "9Bscj7wWjl7I"
   },
   "source": [
    "---\n",
    "\n",
    "## Introduction to the assignment\n",
    "\n",
    "As with the last assignment, you will be using the [Boston Housing Prices Data Set](https://archive.ics.uci.edu/ml/machine-learning-databases/housing/housing.names)."
   ]
  },
  {
   "cell_type": "code",
   "execution_count": 1,
   "metadata": {
    "id": "t0_LwTzXjl7J"
   },
   "outputs": [],
   "source": [
    "import IPython\n",
    "import numpy as np\n",
    "import scipy as sp\n",
    "import pandas as pd\n",
    "import matplotlib\n",
    "import sklearn\n",
    "\n",
    "%matplotlib inline  \n",
    "import matplotlib.pyplot as plt  \n",
    "import statsmodels.api as sm\n",
    "from sklearn.linear_model import LinearRegression\n",
    "from sklearn.metrics import mean_squared_error\n",
    "import statsmodels.formula.api as smf\n"
   ]
  },
  {
   "cell_type": "code",
   "execution_count": 2,
   "metadata": {
    "id": "72miT9Zhjl7K"
   },
   "outputs": [],
   "source": [
    "# Load you data the Boston Housing data into a dataframe\n",
    "# MEDV.txt containt the median house values and data.txt the other 13 features\n",
    "# in order [\"CRIM\", \"ZN\", \"INDUS\", \"CHAS\", \"NOX\",\"RM\",\"AGE\",\"DIS\",\"RAD\",\"TAX\",\"PTRATIO\",\"B\",\"LSTAT\"]\n",
    "# Your code here\n",
    "\n",
    "data = np.loadtxt('data.txt')\n",
    "target = np.loadtxt('target.txt')\n",
    "col = ['CRIM', 'ZN', 'INDUS', 'CHAS', 'NOX', 'RM', 'AGE', 'DIS', 'RAD', 'TAX', 'PTRATIO',\n",
    " 'B', 'LSTAT']\n",
    "df = pd.DataFrame(data, columns = col)\n",
    "df['MEDV'] = target"
   ]
  },
  {
   "cell_type": "code",
   "execution_count": 3,
   "metadata": {},
   "outputs": [
    {
     "name": "stdout",
     "output_type": "stream",
     "text": [
      "       CRIM    ZN     INDUS  CHAS       NOX        RM   AGE       DIS  RAD  \\\n",
      "0  0.218960  18.0  2.629288   0.0  0.869420  6.875396  65.2  4.347275  1.0   \n",
      "1  0.141576   0.0  7.315612   0.0  0.549711  6.499894  78.9  5.315684  2.0   \n",
      "2  0.380457   0.0  7.340354   0.0  0.697928  7.263489  61.1  5.356935  2.0   \n",
      "3  0.313563   0.0  2.562407   0.0  0.599629  7.209732  45.8  6.103983  3.0   \n",
      "4  0.330105   0.0  2.497337   0.0  0.476077  7.184111  54.2  6.264372  3.0   \n",
      "\n",
      "     TAX    PTRATIO           B     LSTAT  MEDV  \n",
      "0  307.0  15.534711  397.462329  5.715647  24.0  \n",
      "1  255.0  17.914131  397.012611  9.338417  21.6  \n",
      "2  243.0  17.919989  396.628236  4.142473  34.7  \n",
      "3  226.0  18.979527  398.564784  3.239272  33.4  \n",
      "4  234.0  18.708888  399.487766  6.115159  36.2  \n",
      "CRIM       0\n",
      "ZN         0\n",
      "INDUS      0\n",
      "CHAS       0\n",
      "NOX        0\n",
      "RM         0\n",
      "AGE        0\n",
      "DIS        0\n",
      "RAD        0\n",
      "TAX        0\n",
      "PTRATIO    0\n",
      "B          0\n",
      "LSTAT      0\n",
      "MEDV       0\n",
      "dtype: int64\n"
     ]
    },
    {
     "data": {
      "text/plain": [
       "CRIM       float64\n",
       "ZN         float64\n",
       "INDUS      float64\n",
       "CHAS       float64\n",
       "NOX        float64\n",
       "RM         float64\n",
       "AGE        float64\n",
       "DIS        float64\n",
       "RAD        float64\n",
       "TAX        float64\n",
       "PTRATIO    float64\n",
       "B          float64\n",
       "LSTAT      float64\n",
       "MEDV       float64\n",
       "dtype: object"
      ]
     },
     "execution_count": 3,
     "metadata": {},
     "output_type": "execute_result"
    }
   ],
   "source": [
    "print(df.head())\n",
    "print(df.isnull().sum())\n",
    "df.dtypes"
   ]
  },
  {
   "cell_type": "markdown",
   "metadata": {
    "id": "2cbXmKF9jl7L"
   },
   "source": [
    "---\n",
    "\n",
    "## Part 1: Getting oriented\n",
    "\n",
    "\n",
    "### 1.1 Use existing libraries\n",
    "\n",
    "Soon, you will write your own gradient descent algorithm, which you will then use to minimize the squared error cost function.  First, however, let's use the canned versions that come with Python, to make sure we understand what we're aiming to achieve.\n",
    "\n",
    "Using the same Boston housing prices dataset, use the [Linear Regression class](http://scikit-learn.org/stable/modules/generated/sklearn.linear_model.LinearRegression.html) from sklearn or the [OLS class](http://wiki.scipy.org/Cookbook/OLS) from SciPy to explore the relationship between median housing price and number of rooms per house. Do the following:\n",
    "\n",
    "(a) Regress the housing price on the number of rooms per house. Draw a scatter plot of housing price (y-axis) against rooms (x-axis), and draw the regression line in blue.  You might want to make the dots semi-transparent if it improves the presentation of the figure. \n",
    "\n",
    "(b) Regress the housing price on the number of rooms per house and the (number of rooms per house) squared.  Show the (curved) regression line in green. \n",
    "\n",
    "(c) Interpret your results."
   ]
  },
  {
   "cell_type": "code",
   "execution_count": 4,
   "metadata": {
    "id": "hxCNK0pTjl7L"
   },
   "outputs": [
    {
     "name": "stdout",
     "output_type": "stream",
     "text": [
      "Coef_:  [[8.95992721]]\n",
      "Intercept_:  [-35.57620687]\n"
     ]
    },
    {
     "data": {
      "image/png": "[encoded data removed]",
      "text/plain": [
       "<Figure size 432x288 with 1 Axes>"
      ]
     },
     "metadata": {
      "needs_background": "light"
     },
     "output_type": "display_data"
    }
   ],
   "source": [
    "# (a) Regress the housing price on the number of rooms per house. Draw a scatter plot of housing price (y-axis) \n",
    "# against rooms (x-axis), and draw the regression line in blue. \n",
    "# You might want to make the dots semi-transparent if it improves the presentation of the figure.\n",
    "\n",
    "# setting up the model\n",
    "X1 = np.array(df[['RM']])\n",
    "y1 = np.array(df[['MEDV']])\n",
    "model1 = sklearn.linear_model.LinearRegression()\n",
    "model1.fit(X1, y1)\n",
    "print(\"Coef_: \",model1.coef_)\n",
    "print(\"Intercept_: \",model1.intercept_)\n",
    "\n",
    "# plotting the line\n",
    "plt.scatter(X1, y1,color='thistle', alpha=0.5)\n",
    "plt.plot(X1, model1.predict(X1),color='b')\n",
    "plt.xlabel('Rooms')\n",
    "plt.ylabel('Housing Prices')\n",
    "ax = plt.gca()\n",
    "ax.spines['right'].set_color('none')\n",
    "ax.spines['top'].set_color('none')\n",
    "ax.yaxis.set_ticks_position('none')\n",
    "ax.xaxis.set_ticks_position('none')\n",
    "plt.show()"
   ]
  },
  {
   "cell_type": "code",
   "execution_count": 5,
   "metadata": {},
   "outputs": [],
   "source": [
    "from sklearn.linear_model import LinearRegression"
   ]
  },
  {
   "cell_type": "code",
   "execution_count": 6,
   "metadata": {},
   "outputs": [
    {
     "name": "stdout",
     "output_type": "stream",
     "text": [
      "Coef_:  [[-23.78960283   2.46914488]]\n",
      "Intercept_:  [71.73632811]\n"
     ]
    },
    {
     "data": {
      "image/png": "[encoded data removed]",
      "text/plain": [
       "<Figure size 432x288 with 1 Axes>"
      ]
     },
     "metadata": {
      "needs_background": "light"
     },
     "output_type": "display_data"
    }
   ],
   "source": [
    "# (b) Regress the housing price on the number of rooms per house and the \n",
    "# (number of rooms per house) squared. Show the (curved) regression line in green.\n",
    "\n",
    "# setting up the model\n",
    "y = np.array(df[['MEDV']])\n",
    "X = np.array(df[['RM']])\n",
    "X2 = X**2\n",
    "x = np.hstack((X,X2))\n",
    "model2 = LinearRegression().fit(x, y)\n",
    "model2.score(x, y)\n",
    "print(\"Coef_: \",model2.coef_)\n",
    "print(\"Intercept_: \",model2.intercept_)\n",
    "\n",
    "# plotting the curve\n",
    "plt.scatter(df['RM'], y,color='thistle', alpha=0.5)\n",
    "plt.scatter(df['RM'], model2.predict(x),color='g')\n",
    "plt.xlabel('Rooms')\n",
    "plt.ylabel('Housing Prices')\n",
    "ax = plt.gca()\n",
    "ax.spines['right'].set_color('none')\n",
    "ax.spines['top'].set_color('none')\n",
    "ax.yaxis.set_ticks_position('none')\n",
    "ax.xaxis.set_ticks_position('none')\n",
    "plt.show()"
   ]
  },
  {
   "cell_type": "markdown",
   "metadata": {
    "id": "bjxD1XjXjl7M"
   },
   "source": [
    "c) Interpret your results.\n",
    "\n",
    "Part a tells us that for every one unit increase in room number, the median home price value increases by $89,599. The line appears to be doing a fairly good job of predicting the data.\n",
    "Part b, however, appears to be doing a better job of fitting the data. This suggests that more complex models could be worth exploring.\n"
   ]
  },
  {
   "cell_type": "markdown",
   "metadata": {
    "id": "hkO8pHRvjl7N"
   },
   "source": [
    "### 1.2 Training and testing\n",
    "\n",
    "Chances are, for the above problem you used all of your data to fit the regression line. In some circumstances this is a reasonable thing to do, but often this will result in overfitting. Let's redo the above results the ML way, using careful cross-validation.  Since you are now experts in cross-validation, and have written your own cross-validation algorithm from scratch, you can now take a shortcut and use the libraries that others have built for you.\n",
    "\n",
    "Using the [cross-validation functions](http://scikit-learn.org/stable/modules/cross_validation.html) from scikit-learn, use 5-fold cross-validation to fit the regression model (a) from 1.1, i.e. the linear fit of housing price on number of rooms per house. Each fold of cross-validation will give you one slope coefficient and one intercept coefficient.  Create a new scatterplot of housing price against rooms, and draw the five different regression lines in light blue, and the oroginal regression line from 1.1 in red (which was estimated using the full dataset). What do you notice?"
   ]
  },
  {
   "cell_type": "code",
   "execution_count": 7,
   "metadata": {
    "id": "gnVo_0TDjl7O"
   },
   "outputs": [
    {
     "data": {
      "image/png": "[encoded data removed]",
      "text/plain": [
       "<Figure size 432x288 with 1 Axes>"
      ]
     },
     "metadata": {
      "needs_background": "light"
     },
     "output_type": "display_data"
    }
   ],
   "source": [
    "from sklearn.model_selection import KFold\n",
    "\n",
    "#setting up the model\n",
    "X = df['RM']\n",
    "y = df['MEDV']\n",
    "\n",
    "model2 = sklearn.linear_model.LinearRegression()\n",
    "\n",
    "# cross validation\n",
    "kf = KFold(n_splits = 5, random_state = 1, shuffle = True)\n",
    "for train_index, test_index in kf.split(X):\n",
    "    #print(train_index, test_index)\n",
    "    X_train , X_test = np.array(X.iloc[train_index]),np.array(X.iloc[test_index])\n",
    "    y_train , y_test = y[train_index] , y[test_index]\n",
    "    model2.fit(X_train.reshape(-1, 1),y_train)\n",
    "    plt.plot(X_test, model2.predict(np.array(X_test).reshape(-1,1)),color='b')\n",
    "\n",
    "# plotting\n",
    "plt.scatter(X1, y1,color='thistle', alpha=0.5)\n",
    "plt.plot(X1, model1.predict(X1),color='r')\n",
    "plt.xlabel('Rooms')\n",
    "plt.ylabel('Housing Prices')\n",
    "ax = plt.gca()\n",
    "ax.spines['right'].set_color('none')\n",
    "ax.spines['top'].set_color('none')\n",
    "ax.yaxis.set_ticks_position('none')\n",
    "ax.xaxis.set_ticks_position('none')\n",
    "plt.show()"
   ]
  },
  {
   "cell_type": "markdown",
   "metadata": {
    "id": "a9CI66kKjl7O"
   },
   "source": [
    "There are variations across all the cross validated lines, but they are all generally around the same. The line using all data appears to be around the center of the cross validated lines, however, it could be overfitted to the data."
   ]
  },
  {
   "cell_type": "markdown",
   "metadata": {
    "id": "cblgmgiBjl7P"
   },
   "source": [
    "## Part 2: Gradient descent: Linear Regression\n",
    "\n",
    "This is where it gets fun!\n",
    "\n",
    "### 2.1 Implement gradient descent with one independent variable (average rooms per house)\n",
    "\n",
    "Implement the batch gradient descent algorithm that we discussed in class. Use the version you implement to regress the housing price on the number of rooms per house. Experiment with 3-4 different values of the learning rate *R*, and do the following:\n",
    "\n",
    "* Report the values of alpha and beta that minimize the loss function\n",
    "* Report the number of iterations it takes for your algorithm to converge (for each value of *R*)\n",
    "* Report the total running time of your algorithm, in seconds\n",
    "* How do your coefficients compare to the ones estimated through standard libraries? Does this depend on *R*?\n",
    "\n",
    "Some skeleton code is provided below, but you should feel free to delete this code and start from scratch if you prefer.\n",
    "\n",
    "* *Hint 1: Don't forget to implement a stopping condition, so that at every iteration you check whether your results have converged. Common approaches to this are to (a) check to see if the loss has stopped decreasing; and (b) check if both your current parameter esimates are close to the estimates from the previous iteration.  In both cases, \"close\" should not be ==0, it should be <=epsilon, where epsilon is something very small (like 0.0001).*\n",
    "* *Hint 2: Some people like to include a MaxIterations parameter in their gradient descent algorithm, to prevent divergence. *"
   ]
  },
  {
   "cell_type": "code",
   "execution_count": 8,
   "metadata": {
    "id": "yAfAQ5EQjl7Q"
   },
   "outputs": [],
   "source": [
    "import time\n",
    "import random\n",
    "\n",
    "\"\"\"\n",
    "Function\n",
    "--------\n",
    "bivariate_ols\n",
    "    Gradient Decent to minimize OLS. Used to find co-efficients of bivariate OLS Linear regression\n",
    "\n",
    "Parameters\n",
    "----------\n",
    "xvalues, yvalues : narray\n",
    "    xvalues: independent variable\n",
    "    yvalues: dependent variable\n",
    "    \n",
    "R: float\n",
    "    Learning rate\n",
    "    \n",
    "MaxIterations: Int\n",
    "    maximum number of iterations\n",
    "    \n",
    "\n",
    "Returns\n",
    "-------\n",
    "alpha: float\n",
    "    intercept\n",
    "    \n",
    "beta: float\n",
    "    co-efficient\n",
    "\"\"\"\n",
    "\n",
    "\n",
    "\n",
    "def bivariate_ols(xvalues, yvalues, R=0.01, MaxIterations=1000):\n",
    "    # initialize the parameters\n",
    "    start_time = time.time()\n",
    "    xvalues = np.array(xvalues)\n",
    "    yvalues = np.array(yvalues)\n",
    "    alpha = random.random()\n",
    "    beta = random.random()\n",
    "    i = 0\n",
    "    \n",
    "    \n",
    "    alphas = [np.inf, alpha]\n",
    "    betas = [np.inf, beta]\n",
    "    \n",
    "    # gradient descent\n",
    "    while i <= MaxIterations:\n",
    "        if np.abs(alphas[-2] - alphas[-1]) > 0.0001 or np.abs(betas[-2] - betas[-1])>.0001:\n",
    "            beta -= R*(2/len(xvalues))*np.sum((np.multiply(xvalues,beta)+alpha-yvalues)*xvalues)\n",
    "            alpha -= R*(2/len(xvalues))*np.sum(np.multiply(xvalues,beta)+alpha-yvalues)\n",
    "            alphas.append(alpha)\n",
    "            betas.append(beta)\n",
    "        else:\n",
    "            break\n",
    "        i += 1\n",
    "    alpha = alphas[-1]\n",
    "    beta = betas[-1]\n",
    "    print(\"Time taken: {:.2f} seconds\".format(time.time() - start_time))\n",
    "    print(\"Iteration number: \" + str(i))\n",
    "    return alpha, beta\n",
    "\n",
    "# example function call\n",
    "# print(bivariate_ols(X, Y, 0.01, 100000))\n"
   ]
  },
  {
   "cell_type": "code",
   "execution_count": 9,
   "metadata": {},
   "outputs": [
    {
     "name": "stdout",
     "output_type": "stream",
     "text": [
      "Time taken: 0.31 seconds\n",
      "Iteration number: 19088\n",
      "Alpha: -35.14701971606561\n",
      "Beta: 8.894505588179126\n"
     ]
    }
   ],
   "source": [
    "X = df[['RM']]\n",
    "Y = df[['MEDV']]\n",
    "\n",
    "# running function with R = .01\n",
    "t,u = bivariate_ols(X, Y, 0.01, 100000)\n",
    "print(\"Alpha: \" + str(t))\n",
    "print(\"Beta: \" + str(u))"
   ]
  },
  {
   "cell_type": "code",
   "execution_count": 10,
   "metadata": {},
   "outputs": [
    {
     "name": "stdout",
     "output_type": "stream",
     "text": [
      "Time taken: 1.46 seconds\n",
      "Iteration number: 92235\n",
      "Alpha: -31.20692745328819\n",
      "Beta: 8.293914758781714\n"
     ]
    }
   ],
   "source": [
    "# running function with R = .001\n",
    "t,u = bivariate_ols(X, Y, 0.001, 100000)\n",
    "print(\"Alpha: \" + str(t))\n",
    "print(\"Beta: \" + str(u))"
   ]
  },
  {
   "cell_type": "code",
   "execution_count": 11,
   "metadata": {},
   "outputs": [
    {
     "name": "stdout",
     "output_type": "stream",
     "text": [
      "Time taken: 0.01 seconds\n",
      "Iteration number: 663\n",
      "Alpha: 0.6343864261889308\n",
      "Beta: 3.4302155985777203\n"
     ]
    }
   ],
   "source": [
    "# running function with R = .0001\n",
    "t,u = bivariate_ols(X, Y, 0.0001, 100000)\n",
    "print(\"Alpha: \" + str(t))\n",
    "print(\"Beta: \" + str(u))"
   ]
  },
  {
   "cell_type": "markdown",
   "metadata": {
    "id": "S7dK9bMZjl7Q"
   },
   "source": [
    "How do your coefficients compare to the ones estimated through standard libraries? Does this depend on R?\n",
    "\n",
    "Using a standard library and all of the data, we found that beta was 8.96 and alpha was -35.58. Our alpha and beta values using learning rate .01 was very close to our standard library, but became continuously farther away from our standard library values as learning rate decreased."
   ]
  },
  {
   "cell_type": "markdown",
   "metadata": {
    "id": "jZqg5yW3jl7Q"
   },
   "source": [
    "### 2.2 Data normalization (done for you!)\n",
    "\n",
    "Soon, you will implement a version of gradient descent that can use an arbitrary number of independent variables. Before doing this, we want to give you some code in case you want to standardize your features."
   ]
  },
  {
   "cell_type": "code",
   "execution_count": 12,
   "metadata": {
    "id": "lU9-kG3Tjl7Q"
   },
   "outputs": [],
   "source": [
    "def standardize(raw_data):\n",
    "    return ((raw_data - np.mean(raw_data, axis = 0)) / np.std(raw_data, axis = 0))"
   ]
  },
  {
   "cell_type": "markdown",
   "metadata": {
    "id": "vUUackd0jl7R"
   },
   "source": [
    "### 2.3 Implement gradient descent with an arbitrary number of independent variables\n",
    "\n",
    "Now that you have a simple version of gradient descent working, create a version of gradient descent that can take more than one independent variable.  Assume all independent variables will be continuous.  Test your algorithm using TAX and RM as independent variables. Standardize these variables before inputting them to the gradient descent algorithm. \n",
    "\n",
    "As before,  report and interpret your estimated coefficients, the number of iterations before convergence, and the total running time of your algorithm. Experiment with 2-3 different values of R.\n",
    "\n",
    "* *Hint 1: Be careful to implement this efficiently, otherwise it might take a long time for your code to run. Commands like `np.dot` can be a good friend to you on this problem*"
   ]
  },
  {
   "cell_type": "code",
   "execution_count": 13,
   "metadata": {
    "id": "yhEcthNtjl7R"
   },
   "outputs": [],
   "source": [
    "\"\"\"\n",
    "Function\n",
    "--------\n",
    "multivariate_ols\n",
    "    Gradient Decent to minimize OLS. Used to find co-efficients of bivariate OLS Linear regression\n",
    "\n",
    "Parameters\n",
    "----------\n",
    "xvalue_matrix, yvalues : narray\n",
    "    xvalue_matrix: independent variable\n",
    "    yvalues: dependent variable\n",
    "    \n",
    "R: float\n",
    "    Learning rate\n",
    "    \n",
    "MaxIterations: Int\n",
    "    maximum number of iterations\n",
    "    \n",
    "\n",
    "Returns\n",
    "-------\n",
    "alpha: float\n",
    "    intercept\n",
    "    \n",
    "beta_array: array[float]\n",
    "    co-efficient\n",
    "\"\"\"\n",
    "\n",
    "def multivariate_ols(xvalue_matrix, yvalues, R=0.01, MaxIterations=1000):\n",
    "    # initialize the parameters\n",
    "    start_time = time.time()\n",
    "    xvalue_matrix = np.array(xvalue_matrix)\n",
    "    yvalues = np.array(yvalues)\n",
    "    alpha = random.random()\n",
    "    N = len(yvalues)\n",
    "    shape = np.shape(xvalue_matrix)\n",
    "    beta_array = np.random.rand(shape[1],1)\n",
    "    \n",
    "    # gradient descent\n",
    "    for i in range(MaxIterations):\n",
    "        y_hat = np.dot(xvalue_matrix,beta_array) + alpha\n",
    "        alpha_partial = np.sum(y_hat-yvalues)/N\n",
    "        beta_partial = np.dot(xvalue_matrix.T,(y_hat-yvalues))/N\n",
    "        new_alpha = alpha - (R*alpha_partial)\n",
    "        new_beta = beta_array - (R*beta_partial)\n",
    "        if abs(alpha - new_alpha) <= .0001 and max(abs(beta_array - new_beta)) <= .0001:\n",
    "            print(\"Time taken: {:.2f} seconds\".format(time.time() - start_time))\n",
    "            print(\"Iteration number: \" + str(i))\n",
    "            return new_alpha, new_beta\n",
    "        alpha = new_alpha\n",
    "        beta_array = new_beta\n",
    "    print(\"Time taken: {:.2f} seconds\".format(time.time() - start_time))\n",
    "    print(\"Iteration number: \" + str(i))\n",
    "    return new_alpha, new_beta\n",
    "    \n"
   ]
  },
  {
   "cell_type": "code",
   "execution_count": 14,
   "metadata": {},
   "outputs": [
    {
     "name": "stdout",
     "output_type": "stream",
     "text": [
      "Time taken: 0.01 seconds\n",
      "Iteration number: 765\n",
      "Alpha: 22.52290993255893\n",
      "Beta: [[ 5.53559337]\n",
      " [-2.72407888]]\n"
     ]
    }
   ],
   "source": [
    "Y = np.array(df[['MEDV']])\n",
    "X = standardize(df[['RM','TAX']])\n",
    "\n",
    "\n",
    "# running function with R = .01\n",
    "t,u = multivariate_ols(X, Y, 0.01, 100000)\n",
    "print(\"Alpha: \" + str(t))\n",
    "print(\"Beta: \" + str(u))"
   ]
  },
  {
   "cell_type": "code",
   "execution_count": 15,
   "metadata": {},
   "outputs": [
    {
     "name": "stdout",
     "output_type": "stream",
     "text": [
      "Time taken: 0.07 seconds\n",
      "Iteration number: 5377\n",
      "Alpha: 22.43295256596492\n",
      "Beta: [[ 5.51579539]\n",
      " [-2.73596294]]\n"
     ]
    }
   ],
   "source": [
    "# running function with R = .001\n",
    "t,u = multivariate_ols(X, Y, 0.001, 100000)\n",
    "print(\"Alpha: \" + str(t))\n",
    "print(\"Beta: \" + str(u))"
   ]
  },
  {
   "cell_type": "code",
   "execution_count": 16,
   "metadata": {},
   "outputs": [
    {
     "name": "stdout",
     "output_type": "stream",
     "text": [
      "Time taken: 0.41 seconds\n",
      "Iteration number: 31064\n",
      "Alpha: 21.53296571687588\n",
      "Beta: [[ 5.35611423]\n",
      " [-2.73567129]]\n"
     ]
    }
   ],
   "source": [
    "# running function with R = .0001\n",
    "t,u = multivariate_ols(X, Y, 0.0001, 100000)\n",
    "print(\"Alpha: \" + str(t))\n",
    "print(\"Beta: \" + str(u))"
   ]
  },
  {
   "cell_type": "markdown",
   "metadata": {
    "id": "E2o_SDdcjl7R"
   },
   "source": [
    "It appears that as R decreases, alpha decreases and our beta values decrease. Our running time and iteration count increase as R decreases. "
   ]
  },
  {
   "cell_type": "markdown",
   "metadata": {
    "id": "dMXw_qcYjl7S"
   },
   "source": [
    "### 2.4 Compare standardized vs. non-standardized results\n",
    "\n",
    "Repeat the analysis from 2.3, but this time do not standardize your variables - i.e., use the original data. Use the same three values of R (0.1, 0.01, and 0.001). What do you notice about the running time and convergence properties of your algorithm?"
   ]
  },
  {
   "cell_type": "code",
   "execution_count": 17,
   "metadata": {
    "id": "AnEvJxxhjl7S"
   },
   "outputs": [
    {
     "name": "stdout",
     "output_type": "stream",
     "text": [
      "<class 'pandas.core.frame.DataFrame'>\n"
     ]
    },
    {
     "name": "stderr",
     "output_type": "stream",
     "text": [
      "<ipython-input-13-13b5787c16a3>:45: RuntimeWarning: invalid value encountered in subtract\n",
      "  new_beta = beta_array - (R*beta_partial)\n"
     ]
    },
    {
     "name": "stdout",
     "output_type": "stream",
     "text": [
      "Time taken: 1.31 seconds\n",
      "Iteration number: 99999\n",
      "nan [[nan]\n",
      " [nan]]\n"
     ]
    }
   ],
   "source": [
    "Y = np.array(df[['MEDV']])\n",
    "X = (df[['RM','TAX']])\n",
    "print(type(X))\n",
    "\n",
    "# running function with R = .01\n",
    "t,u = multivariate_ols(X, Y, 0.01, 100000)\n",
    "print(t, u)"
   ]
  },
  {
   "cell_type": "code",
   "execution_count": 18,
   "metadata": {},
   "outputs": [
    {
     "name": "stderr",
     "output_type": "stream",
     "text": [
      "<ipython-input-13-13b5787c16a3>:45: RuntimeWarning: invalid value encountered in subtract\n",
      "  new_beta = beta_array - (R*beta_partial)\n"
     ]
    },
    {
     "name": "stdout",
     "output_type": "stream",
     "text": [
      "Time taken: 1.31 seconds\n",
      "Iteration number: 99999\n",
      "nan [[nan]\n",
      " [nan]]\n"
     ]
    }
   ],
   "source": [
    "# running function with R = .001\n",
    "t,u = multivariate_ols(X, Y, 0.001, 100000)\n",
    "print(t, u)"
   ]
  },
  {
   "cell_type": "code",
   "execution_count": 19,
   "metadata": {},
   "outputs": [
    {
     "name": "stderr",
     "output_type": "stream",
     "text": [
      "<ipython-input-13-13b5787c16a3>:45: RuntimeWarning: invalid value encountered in subtract\n",
      "  new_beta = beta_array - (R*beta_partial)\n"
     ]
    },
    {
     "name": "stdout",
     "output_type": "stream",
     "text": [
      "Time taken: 1.35 seconds\n",
      "Iteration number: 99999\n",
      "nan [[nan]\n",
      " [nan]]\n"
     ]
    }
   ],
   "source": [
    "# running function with R = .0001\n",
    "t,u = multivariate_ols(X, Y, 0.0001, 100000)\n",
    "print(t, u)"
   ]
  },
  {
   "cell_type": "markdown",
   "metadata": {
    "id": "BFdApjEsjl7S"
   },
   "source": [
    "As R decreases, the running time seems to increase. Our algorithm does not converge with any value of R when our data is not standardized, but it does converge in 2.3 when we standardize."
   ]
  },
  {
   "cell_type": "markdown",
   "metadata": {
    "id": "5pEk2_UZjl7S"
   },
   "source": [
    "## 3. Prediction\n",
    "\n",
    "Let's use our fitted model to make predictions about housing prices. Make sure to first standardize your features before proceeding.\n",
    "\n",
    "### 3.1 Cross-Validation\n",
    "\n",
    "Unless you were careful above, you probably overfit your data again. Let's fix that. Use 5-fold cross-validation to re-fit the multivariate regression from 2.3 above, and report your estimated coefficients (there should be three, corresponding to the intercept and the two coefficients for TAX and RM). Since there are 5 folds, there will be 5 sets of three coefficients -- report them all in a 5x3 table."
   ]
  },
  {
   "cell_type": "code",
   "execution_count": 20,
   "metadata": {},
   "outputs": [],
   "source": [
    "from tabulate import tabulate\n",
    "import math"
   ]
  },
  {
   "cell_type": "code",
   "execution_count": 21,
   "metadata": {},
   "outputs": [
    {
     "name": "stdout",
     "output_type": "stream",
     "text": [
      "Time taken: 0.01 seconds\n",
      "Iteration number: 776\n",
      "Time taken: 0.01 seconds\n",
      "Iteration number: 773\n",
      "Time taken: 0.01 seconds\n",
      "Iteration number: 770\n",
      "Time taken: 0.01 seconds\n",
      "Iteration number: 764\n",
      "Time taken: 0.01 seconds\n",
      "Iteration number: 763\n",
      "  Intercept    RM Coef    TAX Coef\n",
      "-----------  ---------  ----------\n",
      "    22.5541    5.25989    -2.76852\n",
      "    22.445     5.86443    -2.67853\n",
      "    22.7348    5.45004    -2.56557\n",
      "    22.4274    5.68236    -2.80136\n",
      "    22.4595    5.43218    -2.78532\n",
      "Average Intercept: 22.524158721907597, Average RM Coefficient: [5.53778027], Average TAX Coefficient: [-2.71985996]\n"
     ]
    }
   ],
   "source": [
    "Y = np.array(df[['MEDV']])\n",
    "X = standardize(df[['RM','TAX']])\n",
    "\n",
    "coef_alpha = []\n",
    "coef_betas = []\n",
    "\n",
    "# cross validation\n",
    "kf = KFold(n_splits = 5, random_state = 1, shuffle = True)\n",
    "for train_index, test_index in kf.split(X):\n",
    "    X_train , X_test = np.array(X.iloc[train_index]),np.array(X.iloc[test_index])\n",
    "    y_train , y_test = np.array([y[train_index]]).T , np.array([y[test_index]]).T\n",
    "    t, u = multivariate_ols(X_train,y_train, 0.01, 100000)\n",
    "    coef_alpha.append(t)\n",
    "    coef_betas.append(u)\n",
    "\n",
    "# collecting all the coefficients to make a table\n",
    "d = []\n",
    "for i in range(5):\n",
    "    d.append((coef_alpha[i],coef_betas[i][0],coef_betas[i][1]))\n",
    "# printing a table\n",
    "print(tabulate(d, headers=[\"Intercept\", \"RM Coef\", \"TAX Coef\"]))\n",
    "\n",
    "print(\"Average Intercept: \" + str(np.mean(coef_alpha)) + \", Average RM Coefficient: \" + str(np.mean(coef_betas, axis = 0)[0]) + \", Average TAX Coefficient: \" + str(np.mean(coef_betas, axis = 0)[1]))\n"
   ]
  },
  {
   "cell_type": "markdown",
   "metadata": {
    "id": "cHk88-z5jl7T"
   },
   "source": [
    "As we can see from the table, cross validation produces slight variation in the coefficients. The averages are reported above."
   ]
  },
  {
   "cell_type": "markdown",
   "metadata": {
    "id": "jaRVr5wpjl7T"
   },
   "source": [
    "### 3.2 Predicted values and RMSE\n",
    "\n",
    "Let's figure out how accurate this predictive model turned out to be. Compute the cross-validated RMSE for each of the 5 folds above. In other words, in fold 1, use the parameters estimated on the 80% of the data to make predictions for the 20%, and calculate the RMSE for those 20%. Repeate this for the remaining folds. Report the RMSE for each of the 5-folds, and the average (mean) RMSE across the five folds. How does this average RMSE compare to the performance of your nearest neighbor algorithm from the last problem set?"
   ]
  },
  {
   "cell_type": "code",
   "execution_count": 22,
   "metadata": {},
   "outputs": [],
   "source": [
    "def compute_rmse(predictions, yvalues):\n",
    "    # taking the difference between the 2 arrays\n",
    "    diffs = (np.array(yvalues)-np.array(predictions))\n",
    "    # squaring the differences\n",
    "    squares = np.square(diffs)\n",
    "    # summing the squares\n",
    "    s = np.sum(squares)\n",
    "    # dividing by the length\n",
    "    inside = s/len(diffs)\n",
    "    # taking the square root\n",
    "    rmse = math.sqrt(inside)\n",
    "    return rmse"
   ]
  },
  {
   "cell_type": "code",
   "execution_count": 23,
   "metadata": {},
   "outputs": [],
   "source": [
    "# to be used for prediction\n",
    "def model(alpha, beta_array, xvalue_matrix):\n",
    "    pred = np.dot(xvalue_matrix,beta_array) + alpha\n",
    "    return pred"
   ]
  },
  {
   "cell_type": "code",
   "execution_count": 24,
   "metadata": {
    "id": "9I1zFLBajl7T"
   },
   "outputs": [],
   "source": [
    "Y = (df[['MEDV']])\n",
    "X = standardize(df[['RM','TAX']])\n",
    "\n",
    "# cross validating and keeping track of RMSE\n",
    "rmses = []\n",
    "i = 0\n",
    "kf = KFold(n_splits = 5, random_state = 1, shuffle = True)\n",
    "for train_index, test_index in kf.split(X):\n",
    "    X_train , X_test = np.array(X.iloc[train_index]),np.array(X.iloc[test_index])\n",
    "    y_train , y_test = np.array([y[train_index]]).T , np.array([y[test_index]]).T\n",
    "    predictions = np.dot(X_test,coef_betas[i]) + coef_alpha[i]\n",
    "    rmse = compute_rmse(predictions,y_test)\n",
    "    rmses.append(rmse)\n",
    "    i += 1"
   ]
  },
  {
   "cell_type": "code",
   "execution_count": 25,
   "metadata": {},
   "outputs": [
    {
     "name": "stdout",
     "output_type": "stream",
     "text": [
      "[5.943839700003763, 6.987924014364593, 5.119632335085662, 6.638631824792226, 6.078273481162675]\n",
      "6.153660271081784\n"
     ]
    }
   ],
   "source": [
    "from statistics import mean\n",
    "# printing entire list of RMSEs\n",
    "print(rmses)\n",
    "# printing the average RMSE\n",
    "print(mean(rmses))"
   ]
  },
  {
   "cell_type": "markdown",
   "metadata": {
    "id": "61FuGxiYjl7T"
   },
   "source": [
    "NN Test RMSE: 7.11504450215995\n",
    "Our average RMSE for this method (6.15) is lower than the average RMSE for Nearest Neighbors (7.11), so this algorithm performs better than nearest neighbors. It must be noted that we are using different features across problem sets, so we cannot accurately compare these two measures. I use the same model as in PS 3 below. We find that the average RMSE using this algorithm on the old model is 6.2, which is better than 7.11, so it appears that this gradient descent algorithm is better than nearest neighbors for this model and dataset."
   ]
  },
  {
   "cell_type": "code",
   "execution_count": 26,
   "metadata": {},
   "outputs": [
    {
     "name": "stdout",
     "output_type": "stream",
     "text": [
      "Time taken: 0.01 seconds\n",
      "Iteration number: 802\n",
      "Time taken: 0.01 seconds\n",
      "Iteration number: 786\n",
      "Time taken: 0.01 seconds\n",
      "Iteration number: 773\n",
      "Time taken: 0.01 seconds\n",
      "Iteration number: 760\n",
      "Time taken: 0.01 seconds\n",
      "Iteration number: 764\n",
      "6.232595466719972\n"
     ]
    }
   ],
   "source": [
    "Y = np.array(df[['MEDV']])\n",
    "X = standardize(df[['CRIM','RM','ZN']])\n",
    "\n",
    "coef_alpha = []\n",
    "coef_betas = []\n",
    "\n",
    "# cross validation\n",
    "kf = KFold(n_splits = 5, random_state = 1, shuffle = True)\n",
    "for train_index, test_index in kf.split(X):\n",
    "    X_train , X_test = np.array(X.iloc[train_index]),np.array(X.iloc[test_index])\n",
    "    y_train , y_test = np.array([y[train_index]]).T , np.array([y[test_index]]).T\n",
    "    t, u = multivariate_ols(X_train,y_train, 0.01, 100000)\n",
    "    coef_alpha.append(t)\n",
    "    coef_betas.append(u)\n",
    "\n",
    "d = []\n",
    "for i in range(5):\n",
    "    d.append((coef_alpha[i],coef_betas[i][0],coef_betas[i][1]))\n",
    "\n",
    "# cross validating and keeping track of RMSE\n",
    "rmses = []\n",
    "i = 0\n",
    "kf = KFold(n_splits = 5, random_state = 1, shuffle = True)\n",
    "for train_index, test_index in kf.split(X):\n",
    "    X_train , X_test = np.array(X.iloc[train_index]),np.array(X.iloc[test_index])\n",
    "    y_train , y_test = np.array([y[train_index]]).T , np.array([y[test_index]]).T\n",
    "    predictions = np.dot(X_test,coef_betas[i]) + coef_alpha[i]\n",
    "    rmse = compute_rmse(predictions,y_test)\n",
    "    rmses.append(rmse)\n",
    "    i += 1\n",
    "# printing the average RMSE\n",
    "print(mean(rmses))"
   ]
  },
  {
   "cell_type": "markdown",
   "metadata": {
    "id": "6L-AsWOajl7T"
   },
   "source": [
    "### Extra Credit 1: Logistic Regression\n",
    "\n",
    "For extra credit, implement logistic regression using gradient descent. Create a new variable (EXPENSIVE) to indicate whether the median housing price is more than $40,000. Use your model  a logistic regression of EXPENSIVE on CHAS and RM. Report your results."
   ]
  },
  {
   "cell_type": "code",
   "execution_count": 27,
   "metadata": {
    "id": "UR9qYdndjl7T"
   },
   "outputs": [],
   "source": [
    "# Your code here"
   ]
  },
  {
   "cell_type": "markdown",
   "metadata": {
    "id": "04AamlXLjl7T"
   },
   "source": [
    "*Discuss your results here*"
   ]
  },
  {
   "cell_type": "markdown",
   "metadata": {
    "id": "nvkpICWsjl7T"
   },
   "source": [
    "## 4 Regularization \n",
    "\n",
    "### 4.1 Get prepped\n",
    "\n",
    "Step 1: Create new interaction variables between each possible pair of the F_s features. If you originally had *K* features, you should now have K+(K*(K+1))/2 features. Standardize all of your features.\n",
    "\n",
    "Step 2: Randomly sample 80% of your data and call this the training set, and set aside the remaining 20% as your test set."
   ]
  },
  {
   "cell_type": "code",
   "execution_count": 28,
   "metadata": {},
   "outputs": [],
   "source": [
    "from sklearn import model_selection, preprocessing"
   ]
  },
  {
   "cell_type": "code",
   "execution_count": 29,
   "metadata": {},
   "outputs": [
    {
     "name": "stdout",
     "output_type": "stream",
     "text": [
      "       CRIM        ZN     INDUS      CHAS       NOX        RM       AGE  \\\n",
      "0 -0.416323  0.284830 -1.270520 -0.272599  0.738124  0.552955 -0.120013   \n",
      "1 -0.425331 -0.487722 -0.586750 -0.272599 -1.184627  0.020504  0.367166   \n",
      "2 -0.397524 -0.487722 -0.583140 -0.272599 -0.293242  1.103260 -0.265812   \n",
      "3 -0.405311 -0.487722 -1.280278 -0.272599 -0.884416  1.027034 -0.809889   \n",
      "4 -0.403385 -0.487722 -1.289773 -0.272599 -1.627468  0.990705 -0.511180   \n",
      "\n",
      "        DIS       RAD       TAX  ...   TAX*TAX  TAX*PTRATIO     TAX*B  \\\n",
      "0  0.165247 -0.982843 -0.642280  ... -0.666456    -0.833076 -0.309350   \n",
      "1  0.624852 -0.867883 -0.950995  ... -0.849329    -0.886279 -0.628821   \n",
      "2  0.644430 -0.867883 -1.022237  ... -0.886725    -0.942789 -0.703492   \n",
      "3  0.998977 -0.752922 -1.123163  ... -0.936618    -0.960038 -0.800412   \n",
      "4  1.075097 -0.752922 -1.075668  ... -0.913589    -0.936617 -0.748078   \n",
      "\n",
      "   TAX*LSTAT  PTRATIO*PTRATIO  PTRATIO*B  PTRATIO*LSTAT       B*B   B*LSTAT  \\\n",
      "0  -0.835367        -1.443290  -0.260551      -1.088942  0.497397 -0.827189   \n",
      "1  -0.714306        -0.413379   0.245572      -0.557697  0.488925 -0.282211   \n",
      "2  -0.979900        -0.410662   0.243110      -1.187464  0.481691 -1.065847   \n",
      "3  -1.032944         0.095261   0.489781      -1.273772  0.518208 -1.199447   \n",
      "4  -0.897918        -0.036731   0.440878      -0.915578  0.535675 -0.762212   \n",
      "\n",
      "   LSTAT*LSTAT  \n",
      "0    -0.783600  \n",
      "1    -0.557487  \n",
      "2    -0.847899  \n",
      "3    -0.875541  \n",
      "4    -0.764004  \n",
      "\n",
      "[5 rows x 104 columns]\n"
     ]
    }
   ],
   "source": [
    "# creating all features\n",
    "for i in range(13):\n",
    "    for j in range(i,13):\n",
    "        df[str(df.columns[i])+'*'+str(df.columns[j])]=df.iloc[:,i]*df.iloc[:,j]\n",
    "        \n",
    "df1 = standardize(df.loc[:, df.columns != 'MEDV'])\n",
    "print(df1.head())"
   ]
  },
  {
   "cell_type": "code",
   "execution_count": 30,
   "metadata": {},
   "outputs": [
    {
     "name": "stdout",
     "output_type": "stream",
     "text": [
      "(404, 104)\n",
      "(102, 104)\n",
      "(404, 1)\n",
      "(102, 1)\n"
     ]
    }
   ],
   "source": [
    "# splitting the data into train and test sets\n",
    "X_train , X_test, y_train , y_test = model_selection.train_test_split(df1,df[['MEDV']],test_size=.2)\n",
    "\n",
    "# checking dimensions\n",
    "print(np.shape(X_train))\n",
    "print(np.shape(X_test))\n",
    "print(np.shape(y_train))\n",
    "print(np.shape(y_test))"
   ]
  },
  {
   "cell_type": "markdown",
   "metadata": {
    "id": "JeXkvp7njl7U"
   },
   "source": [
    "### 4.2 Overfitting (sort of)\n",
    "Now, using your version of multivariate regression from 2.3, let's overfit the training data. Using your training set, regress housing price on as many of those K+(K*(K+1))/2 features as you can (Don't forget to add quadratic terms. Form instance, RM^2.).  If you get too greedy, it's possible this will take a long time to compute, so start with 5-10 features, and if you have the time, add more features.\n",
    "\n",
    "Report the RMSE when you apply your model to your training set and to your testing set. How do these numbers compare to each other, and to the RMSE from 3.2 and nearest neighbors?"
   ]
  },
  {
   "cell_type": "code",
   "execution_count": 31,
   "metadata": {},
   "outputs": [
    {
     "name": "stdout",
     "output_type": "stream",
     "text": [
      "Time taken: 3.73 seconds\n",
      "Iteration number: 26794\n",
      "Training RMSE: 2.719573979435247; Testing RMSE: 4.3016431756475875\n"
     ]
    }
   ],
   "source": [
    "# training the model\n",
    "a, b = multivariate_ols(X_train, y_train, R=0.01, MaxIterations=100000)\n",
    "# predictions for training set\n",
    "pred = model(a, b, X_train)\n",
    "# computing RMSE\n",
    "rmse1 = compute_rmse(pred, y_train)  \n",
    "\n",
    "# predictions for test set\n",
    "pred = model(a, b, X_test)\n",
    "# computing RMSE\n",
    "rmse2 = compute_rmse(pred, y_test) \n",
    "\n",
    "print(\"Training RMSE: \" + str(rmse1) + \"; Testing RMSE: \" + str(rmse2))"
   ]
  },
  {
   "cell_type": "markdown",
   "metadata": {
    "id": "wf3h2JEIjl7U"
   },
   "source": [
    "How do these numbers compare to each other, and to the RMSE from 3.2 and nearest neighbors?\n",
    "3.2 Testing RMSE: 6.15\n",
    "\n",
    "My model uses all of the features, and gets a much lower training and testing RMSE. It makes sense that the testing RMSE (4.30) is higher than the training RMSE (2.72), as this data is likely to be overfitted in the absense of cross validation.\n",
    "\n",
    "Comparing this to the 3.2 testing RMSE (6.15), we can say that our model is much better using all the features instead of just RM and TAX. However, we are not penalizing additional variables in our model, so this could be inaccurate.\n",
    "\n",
    "Comparing to Nearest Neighbors from PS 3, our testing RMSE was 7.11, which is much higher than the RMSE we get here, which is likely the result of a better model and algorithm."
   ]
  },
  {
   "cell_type": "markdown",
   "metadata": {
    "id": "XDlDsi4wjl7U"
   },
   "source": [
    "### 4.3 Ridge regularization (basic)\n",
    "Incorporate L2 (Ridge) regularization into your multivariate_ols regression. Write a new version of your gradient descent algorithm that includes a regularization term \"lambda\" to penalize excessive complexity. \n",
    "\n",
    "Use your regularized regression to re-fit the model from 4.2 above on your training data, using the value lambda = 0.5.  Report the RMSE obtained for your training data, and the RMSE obtained for your testing data."
   ]
  },
  {
   "cell_type": "code",
   "execution_count": 32,
   "metadata": {
    "id": "Rlaok4imjl7U"
   },
   "outputs": [],
   "source": [
    "def reg_multivariate_ols(xvalue_matrix, yvalues, R=0.01, MaxIterations=1000, lam = .5):\n",
    "    # initialize the parameters\n",
    "    start_time = time.time()\n",
    "    xvalue_matrix = np.array(xvalue_matrix)\n",
    "    yvalues = np.array(yvalues)\n",
    "    alpha = random.random()\n",
    "    N = len(yvalues)\n",
    "    shape = np.shape(xvalue_matrix)\n",
    "    beta_array = np.random.rand(shape[1],1)\n",
    "    \n",
    "    # gradient descent\n",
    "    for i in range(MaxIterations):\n",
    "        y_hat = np.dot(xvalue_matrix,beta_array) + alpha\n",
    "        alpha_partial = np.sum(y_hat-yvalues)/N\n",
    "        beta_partial = np.dot(xvalue_matrix.T,(y_hat-yvalues))\n",
    "        new_alpha = alpha - (R*alpha_partial)\n",
    "        # ridge regularization\n",
    "        new_beta = beta_array - (R/N)*(beta_partial + lam*beta_array)\n",
    "        if abs(alpha - new_alpha) <= .0001 and max(np.abs(beta_array - new_beta)) <= .0001:\n",
    "            print(\"Time taken: {:.2f} seconds\".format(time.time() - start_time))\n",
    "            print(\"Iteration number: \" + str(i))\n",
    "            return new_alpha, new_beta\n",
    "        alpha = new_alpha\n",
    "        beta_array = new_beta\n",
    "    print(\"Time taken: {:.2f} seconds\".format(time.time() - start_time))\n",
    "    print(\"Iteration number: \" + str(i))\n",
    "    return new_alpha, new_beta"
   ]
  },
  {
   "cell_type": "code",
   "execution_count": 33,
   "metadata": {},
   "outputs": [
    {
     "name": "stdout",
     "output_type": "stream",
     "text": [
      "Time taken: 2.41 seconds\n",
      "Iteration number: 18039\n",
      "Training RMSE: 2.791560637154338; Testing RMSE: 4.329249888142999\n"
     ]
    }
   ],
   "source": [
    "# training the model\n",
    "a, b = reg_multivariate_ols(X_train, y_train, R=0.01, MaxIterations=100000, lam=.5)\n",
    "# training predictions\n",
    "pred = np.dot(X_train,b) + a\n",
    "# computing RMSE\n",
    "rmse1 = compute_rmse(pred, y_train)  \n",
    "\n",
    "# testing predictions\n",
    "pred2 = np.dot(X_test,b) + a\n",
    "# computing RMSE\n",
    "rmse2 = compute_rmse(pred2, y_test) \n",
    "\n",
    "print(\"Training RMSE: \" + str(rmse1) + \"; Testing RMSE: \" + str(rmse2))"
   ]
  },
  {
   "cell_type": "markdown",
   "metadata": {
    "id": "sxZdfCKvjl7U"
   },
   "source": [
    "Here we can see that our training RMSE (2.79) is lower than our testing RMSE (4.33), which is likely demonstrating overfitting. Compared to 4.2, our training and testing RMSE are slightly higher, which makes sense, as it is demonstrating the result of penalizing additional complexity."
   ]
  },
  {
   "cell_type": "markdown",
   "metadata": {
    "id": "QIYjxCfAjl7U"
   },
   "source": [
    "### 4.4: Cross-validate lambda\n",
    "\n",
    "This is where it all comes together! Use k-fold cross-validation to select the optimal value of lambda. In other words, define a set of different values of lambda. Then, using the 80% of your data that you set aside for training, iterate through the values of lambda one at a time. For each value of lambda, use k-fold cross-validation to compute the average cross-validated (test) RMSE for that lambda value, computed as the average across the held-out folds. You should also record the average cross-validated train RMSE, computed as the average across the folds used for training. Create a scatter plot that shows RMSE as a function of lambda. The scatter plot should have two lines: a red line showing the cross-validated (test) RMSE, and a blue line showing the cross-validated train RMSE.  At this point, you should not have touched your held-out 20% of \"true\" test data.\n",
    "\n",
    "What value of lambda minimizes your cross-validated (test) RMSE? Fix that value of lambda, and train a new model using all of your training data with that value of lambda (i.e., use the entire 80% of the data that you set aside in 4.1). Calcuate the RMSE for this model on the 20% of \"true\" test data. How does your test RMSE compare to the RMSE from 4.3, 4.2, 2.3, and to the RMSE from nearest neighbors? What do you make of these results?\n",
    "\n",
    "Go brag to your friends about how you just implemented cross-validated ridge-regularized multivariate regression using gradient descent optimization, from scratch. If you still have friends."
   ]
  },
  {
   "cell_type": "code",
   "execution_count": 47,
   "metadata": {
    "id": "35QDSkeGjl7U"
   },
   "outputs": [
    {
     "name": "stdout",
     "output_type": "stream",
     "text": [
      "Time taken: 2.89 seconds\n",
      "Iteration number: 28089\n",
      "Time taken: 2.35 seconds\n",
      "Iteration number: 23423\n",
      "Time taken: 1.56 seconds\n",
      "Iteration number: 15506\n",
      "Time taken: 2.35 seconds\n",
      "Iteration number: 22350\n",
      "Time taken: 4.10 seconds\n",
      "Iteration number: 33682\n",
      "Time taken: 3.28 seconds\n",
      "Iteration number: 26149\n",
      "Time taken: 2.68 seconds\n",
      "Iteration number: 25592\n",
      "Time taken: 1.66 seconds\n",
      "Iteration number: 16586\n",
      "Time taken: 2.31 seconds\n",
      "Iteration number: 22765\n",
      "Time taken: 3.27 seconds\n",
      "Iteration number: 32314\n",
      "Time taken: 3.65 seconds\n",
      "Iteration number: 27876\n",
      "Time taken: 2.39 seconds\n",
      "Iteration number: 23128\n",
      "Time taken: 2.32 seconds\n",
      "Iteration number: 17201\n",
      "Time taken: 2.57 seconds\n",
      "Iteration number: 22842\n",
      "Time taken: 3.32 seconds\n",
      "Iteration number: 33214\n",
      "Time taken: 2.73 seconds\n",
      "Iteration number: 25823\n",
      "Time taken: 2.50 seconds\n",
      "Iteration number: 24308\n",
      "Time taken: 2.46 seconds\n",
      "Iteration number: 16793\n",
      "Time taken: 2.26 seconds\n",
      "Iteration number: 22281\n",
      "Time taken: 3.97 seconds\n",
      "Iteration number: 31628\n",
      "Time taken: 2.53 seconds\n",
      "Iteration number: 25010\n",
      "Time taken: 2.43 seconds\n",
      "Iteration number: 23587\n",
      "Time taken: 1.72 seconds\n",
      "Iteration number: 16925\n",
      "Time taken: 2.30 seconds\n",
      "Iteration number: 22810\n",
      "Time taken: 3.86 seconds\n",
      "Iteration number: 30825\n",
      "Time taken: 3.00 seconds\n",
      "Iteration number: 27571\n",
      "Time taken: 3.10 seconds\n",
      "Iteration number: 24218\n",
      "Time taken: 1.67 seconds\n",
      "Iteration number: 16617\n",
      "Time taken: 2.21 seconds\n",
      "Iteration number: 21818\n",
      "Time taken: 2.93 seconds\n",
      "Iteration number: 29128\n",
      "Time taken: 2.88 seconds\n",
      "Iteration number: 26839\n",
      "Time taken: 2.85 seconds\n",
      "Iteration number: 21195\n",
      "Time taken: 1.68 seconds\n",
      "Iteration number: 16535\n",
      "Time taken: 2.91 seconds\n",
      "Iteration number: 21778\n",
      "Time taken: 3.13 seconds\n",
      "Iteration number: 29656\n",
      "Time taken: 2.31 seconds\n",
      "Iteration number: 23350\n",
      "Time taken: 2.20 seconds\n",
      "Iteration number: 22213\n",
      "Time taken: 1.70 seconds\n",
      "Iteration number: 16258\n",
      "Time taken: 2.68 seconds\n",
      "Iteration number: 21968\n",
      "Time taken: 3.33 seconds\n",
      "Iteration number: 29796\n",
      "Time taken: 3.43 seconds\n",
      "Iteration number: 26635\n",
      "Time taken: 2.11 seconds\n",
      "Iteration number: 20778\n",
      "Time taken: 1.50 seconds\n",
      "Iteration number: 15313\n",
      "Time taken: 2.25 seconds\n",
      "Iteration number: 23082\n",
      "Time taken: 2.75 seconds\n",
      "Iteration number: 27436\n",
      "Time taken: 3.06 seconds\n",
      "Iteration number: 25580\n",
      "Time taken: 2.55 seconds\n",
      "Iteration number: 21592\n",
      "Time taken: 1.59 seconds\n",
      "Iteration number: 16012\n",
      "Time taken: 2.87 seconds\n",
      "Iteration number: 20893\n",
      "Time taken: 2.98 seconds\n",
      "Iteration number: 29843\n",
      "Time taken: 2.42 seconds\n",
      "Iteration number: 23743\n",
      "Time taken: 2.14 seconds\n",
      "Iteration number: 20785\n",
      "Time taken: 1.58 seconds\n",
      "Iteration number: 15576\n",
      "Time taken: 2.70 seconds\n",
      "Iteration number: 21207\n",
      "Time taken: 2.99 seconds\n",
      "Iteration number: 26757\n",
      "Time taken: 2.84 seconds\n",
      "Iteration number: 21920\n",
      "Time taken: 2.35 seconds\n",
      "Iteration number: 21148\n",
      "Time taken: 1.61 seconds\n",
      "Iteration number: 15947\n",
      "Time taken: 2.11 seconds\n",
      "Iteration number: 19889\n",
      "Time taken: 2.78 seconds\n",
      "Iteration number: 27109\n",
      "Time taken: 2.34 seconds\n",
      "Iteration number: 22718\n",
      "Time taken: 2.87 seconds\n",
      "Iteration number: 21065\n",
      "Time taken: 1.62 seconds\n",
      "Iteration number: 15989\n",
      "Time taken: 2.49 seconds\n",
      "Iteration number: 19630\n",
      "Time taken: 2.73 seconds\n",
      "Iteration number: 24280\n",
      "Time taken: 2.27 seconds\n",
      "Iteration number: 22033\n",
      "Time taken: 2.10 seconds\n",
      "Iteration number: 20351\n",
      "Time taken: 1.61 seconds\n",
      "Iteration number: 15984\n",
      "Time taken: 1.97 seconds\n",
      "Iteration number: 19194\n",
      "Time taken: 3.42 seconds\n",
      "Iteration number: 26327\n",
      "Time taken: 1.98 seconds\n",
      "Iteration number: 19564\n",
      "Time taken: 2.51 seconds\n",
      "Iteration number: 19826\n",
      "Time taken: 1.95 seconds\n",
      "Iteration number: 16209\n",
      "Time taken: 1.98 seconds\n",
      "Iteration number: 19549\n",
      "Time taken: 2.19 seconds\n",
      "Iteration number: 22089\n",
      "Time taken: 1.98 seconds\n",
      "Iteration number: 19377\n",
      "Time taken: 1.88 seconds\n",
      "Iteration number: 18458\n",
      "Time taken: 1.70 seconds\n",
      "Iteration number: 15566\n",
      "Time taken: 2.61 seconds\n",
      "Iteration number: 19055\n",
      "Time taken: 2.44 seconds\n",
      "Iteration number: 24522\n",
      "Time taken: 2.94 seconds\n",
      "Iteration number: 21338\n",
      "Time taken: 1.77 seconds\n",
      "Iteration number: 17371\n",
      "Time taken: 1.42 seconds\n",
      "Iteration number: 14134\n",
      "Time taken: 1.84 seconds\n",
      "Iteration number: 18708\n",
      "Time taken: 2.27 seconds\n",
      "Iteration number: 22750\n",
      "Time taken: 2.13 seconds\n",
      "Iteration number: 20869\n",
      "Time taken: 2.47 seconds\n",
      "Iteration number: 17724\n",
      "Time taken: 1.72 seconds\n",
      "Iteration number: 14786\n",
      "Time taken: 1.82 seconds\n",
      "Iteration number: 17793\n",
      "Time taken: 2.74 seconds\n",
      "Iteration number: 19407\n",
      "Time taken: 1.95 seconds\n",
      "Iteration number: 18661\n",
      "Time taken: 1.91 seconds\n",
      "Iteration number: 18361\n",
      "Time taken: 1.48 seconds\n",
      "Iteration number: 14725\n",
      "Time taken: 1.78 seconds\n",
      "Iteration number: 18048\n",
      "Time taken: 1.98 seconds\n",
      "Iteration number: 19806\n",
      "Time taken: 2.04 seconds\n",
      "Iteration number: 18020\n",
      "Time taken: 2.12 seconds\n",
      "Iteration number: 15189\n",
      "Time taken: 1.36 seconds\n",
      "Iteration number: 13505\n",
      "Time taken: 1.95 seconds\n",
      "Iteration number: 18005\n",
      "Time taken: 2.51 seconds\n",
      "Iteration number: 18925\n",
      "Time taken: 1.87 seconds\n",
      "Iteration number: 18168\n",
      "Time taken: 1.71 seconds\n",
      "Iteration number: 16807\n",
      "Time taken: 1.39 seconds\n",
      "Iteration number: 13632\n",
      "Time taken: 1.66 seconds\n",
      "Iteration number: 16510\n",
      "Time taken: 1.76 seconds\n",
      "Iteration number: 17418\n",
      "Time taken: 1.87 seconds\n",
      "Iteration number: 16769\n",
      "Time taken: 2.15 seconds\n",
      "Iteration number: 14783\n",
      "Time taken: 1.46 seconds\n",
      "Iteration number: 14638\n",
      "Time taken: 1.63 seconds\n",
      "Iteration number: 16272\n",
      "Time taken: 2.44 seconds\n",
      "Iteration number: 16936\n",
      "Time taken: 1.74 seconds\n",
      "Iteration number: 17721\n",
      "Time taken: 1.42 seconds\n",
      "Iteration number: 14390\n",
      "Time taken: 1.27 seconds\n",
      "Iteration number: 13467\n",
      "Time taken: 1.72 seconds\n",
      "Iteration number: 17024\n",
      "Time taken: 1.70 seconds\n",
      "Iteration number: 16597\n",
      "Time taken: 1.73 seconds\n",
      "Iteration number: 17107\n",
      "Time taken: 1.69 seconds\n",
      "Iteration number: 13925\n",
      "Time taken: 1.87 seconds\n",
      "Iteration number: 13097\n",
      "Time taken: 1.73 seconds\n",
      "Iteration number: 16431\n",
      "Time taken: 1.73 seconds\n",
      "Iteration number: 14974\n",
      "Time taken: 2.17 seconds\n",
      "Iteration number: 15431\n",
      "Time taken: 1.44 seconds\n",
      "Iteration number: 13979\n",
      "Time taken: 1.30 seconds\n",
      "Iteration number: 12623\n",
      "Time taken: 1.53 seconds\n",
      "Iteration number: 15330\n",
      "Time taken: 1.43 seconds\n",
      "Iteration number: 14664\n",
      "Time taken: 1.59 seconds\n",
      "Iteration number: 15729\n",
      "Time taken: 1.33 seconds\n",
      "Iteration number: 13122\n",
      "Time taken: 1.13 seconds\n",
      "Iteration number: 11417\n",
      "Time taken: 2.43 seconds\n",
      "Iteration number: 14830\n",
      "Time taken: 1.80 seconds\n",
      "Iteration number: 14857\n",
      "Time taken: 1.32 seconds\n",
      "Iteration number: 13229\n",
      "Time taken: 1.56 seconds\n",
      "Iteration number: 12396\n",
      "Time taken: 1.76 seconds\n",
      "Iteration number: 12263\n",
      "Time taken: 1.52 seconds\n",
      "Iteration number: 14895\n",
      "Time taken: 1.62 seconds\n",
      "Iteration number: 15492\n",
      "Time taken: 1.41 seconds\n",
      "Iteration number: 12975\n",
      "Time taken: 1.35 seconds\n",
      "Iteration number: 13300\n",
      "Time taken: 1.10 seconds\n",
      "Iteration number: 11347\n",
      "Time taken: 1.47 seconds\n",
      "Iteration number: 14111\n",
      "Time taken: 1.29 seconds\n",
      "Iteration number: 13168\n",
      "Time taken: 1.76 seconds\n",
      "Iteration number: 12799\n",
      "Time taken: 1.60 seconds\n",
      "Iteration number: 12369\n",
      "Time taken: 1.20 seconds\n",
      "Iteration number: 11689\n",
      "Time taken: 1.32 seconds\n",
      "Iteration number: 13259\n",
      "Time taken: 1.82 seconds\n",
      "Iteration number: 13007\n",
      "Time taken: 1.52 seconds\n",
      "Iteration number: 12652\n",
      "Time taken: 1.29 seconds\n",
      "Iteration number: 12728\n",
      "Time taken: 1.08 seconds\n",
      "Iteration number: 10818\n",
      "Time taken: 1.34 seconds\n",
      "Iteration number: 12876\n",
      "Time taken: 1.25 seconds\n",
      "Iteration number: 12552\n",
      "Time taken: 1.09 seconds\n",
      "Iteration number: 11371\n",
      "Time taken: 1.16 seconds\n",
      "Iteration number: 11641\n",
      "Time taken: 0.96 seconds\n",
      "Iteration number: 9672\n",
      "Time taken: 1.31 seconds\n",
      "Iteration number: 12486\n",
      "Time taken: 1.83 seconds\n",
      "Iteration number: 12737\n",
      "Time taken: 1.45 seconds\n",
      "Iteration number: 11614\n",
      "Time taken: 1.20 seconds\n",
      "Iteration number: 11677\n",
      "Time taken: 1.09 seconds\n",
      "Iteration number: 10704\n",
      "Time taken: 1.70 seconds\n",
      "Iteration number: 12331\n",
      "Time taken: 1.47 seconds\n",
      "Iteration number: 11472\n",
      "Time taken: 1.18 seconds\n",
      "Iteration number: 11571\n",
      "Time taken: 1.04 seconds\n",
      "Iteration number: 10332\n",
      "Time taken: 0.95 seconds\n",
      "Iteration number: 9549\n",
      "Time taken: 1.16 seconds\n",
      "Iteration number: 11665\n",
      "Time taken: 1.08 seconds\n",
      "Iteration number: 10907\n",
      "Time taken: 0.97 seconds\n",
      "Iteration number: 9444\n",
      "Time taken: 1.09 seconds\n",
      "Iteration number: 10727\n",
      "Time taken: 0.89 seconds\n",
      "Iteration number: 8805\n"
     ]
    },
    {
     "name": "stdout",
     "output_type": "stream",
     "text": [
      "Time taken: 1.10 seconds\n",
      "Iteration number: 11045\n",
      "Time taken: 1.44 seconds\n",
      "Iteration number: 10747\n",
      "Time taken: 1.27 seconds\n",
      "Iteration number: 8574\n",
      "Time taken: 1.12 seconds\n",
      "Iteration number: 10240\n",
      "Time taken: 0.92 seconds\n",
      "Iteration number: 9134\n",
      "Time taken: 1.08 seconds\n",
      "Iteration number: 10855\n",
      "Time taken: 1.21 seconds\n",
      "Iteration number: 9373\n",
      "Time taken: 1.28 seconds\n",
      "Iteration number: 8751\n",
      "Time taken: 1.13 seconds\n",
      "Iteration number: 10466\n",
      "Time taken: 0.84 seconds\n",
      "Iteration number: 8273\n",
      "Time taken: 1.02 seconds\n",
      "Iteration number: 10294\n",
      "Time taken: 0.92 seconds\n",
      "Iteration number: 9477\n",
      "Time taken: 0.82 seconds\n",
      "Iteration number: 8535\n",
      "Time taken: 0.96 seconds\n",
      "Iteration number: 9637\n",
      "Time taken: 0.83 seconds\n",
      "Iteration number: 8180\n",
      "Time taken: 1.02 seconds\n",
      "Iteration number: 10200\n",
      "Time taken: 0.81 seconds\n",
      "Iteration number: 8374\n",
      "Time taken: 0.83 seconds\n",
      "Iteration number: 8148\n",
      "Time taken: 0.92 seconds\n",
      "Iteration number: 9246\n",
      "Time taken: 0.95 seconds\n",
      "Iteration number: 7991\n",
      "Time taken: 1.37 seconds\n",
      "Iteration number: 9276\n",
      "Time taken: 1.04 seconds\n",
      "Iteration number: 8126\n",
      "Time taken: 0.77 seconds\n",
      "Iteration number: 7641\n",
      "Time taken: 0.85 seconds\n",
      "Iteration number: 8847\n",
      "Time taken: 0.79 seconds\n",
      "Iteration number: 7698\n",
      "Time taken: 1.09 seconds\n",
      "Iteration number: 8968\n",
      "Time taken: 1.11 seconds\n",
      "Iteration number: 7763\n",
      "Time taken: 0.99 seconds\n",
      "Iteration number: 7611\n",
      "Time taken: 0.81 seconds\n",
      "Iteration number: 8249\n",
      "Time taken: 0.74 seconds\n",
      "Iteration number: 7548\n",
      "Time taken: 0.79 seconds\n",
      "Iteration number: 7999\n",
      "Time taken: 0.67 seconds\n",
      "Iteration number: 6701\n",
      "Time taken: 0.72 seconds\n",
      "Iteration number: 7363\n",
      "Time taken: 0.84 seconds\n",
      "Iteration number: 8342\n",
      "Time taken: 0.73 seconds\n",
      "Iteration number: 7573\n",
      "Time taken: 0.78 seconds\n",
      "Iteration number: 8067\n",
      "Time taken: 0.75 seconds\n",
      "Iteration number: 7457\n",
      "Time taken: 0.67 seconds\n",
      "Iteration number: 6704\n",
      "Time taken: 0.76 seconds\n",
      "Iteration number: 7852\n",
      "Time taken: 0.61 seconds\n",
      "Iteration number: 6132\n",
      "Time taken: 0.79 seconds\n",
      "Iteration number: 7908\n",
      "Time taken: 0.79 seconds\n",
      "Iteration number: 6560\n",
      "Time taken: 1.00 seconds\n",
      "Iteration number: 6818\n",
      "Time taken: 1.06 seconds\n",
      "Iteration number: 7160\n",
      "Time taken: 0.59 seconds\n",
      "Iteration number: 5893\n",
      "Time taken: 0.81 seconds\n",
      "Iteration number: 7394\n",
      "Time taken: 0.65 seconds\n",
      "Iteration number: 6333\n",
      "Time taken: 0.65 seconds\n",
      "Iteration number: 6422\n",
      "Time taken: 0.78 seconds\n",
      "Iteration number: 7060\n",
      "Time taken: 0.89 seconds\n",
      "Iteration number: 6203\n",
      "Time taken: 1.06 seconds\n",
      "Iteration number: 7363\n",
      "Time taken: 0.73 seconds\n",
      "Iteration number: 6704\n",
      "Time taken: 0.61 seconds\n",
      "Iteration number: 5966\n",
      "Time taken: 0.60 seconds\n",
      "Iteration number: 6010\n",
      "Time taken: 0.57 seconds\n",
      "Iteration number: 6282\n",
      "Time taken: 0.70 seconds\n",
      "Iteration number: 6892\n",
      "Time taken: 0.55 seconds\n",
      "Iteration number: 5757\n",
      "Time taken: 0.58 seconds\n",
      "Iteration number: 5812\n",
      "Time taken: 0.70 seconds\n",
      "Iteration number: 6429\n",
      "Time taken: 0.58 seconds\n",
      "Iteration number: 5848\n",
      "Time taken: 0.65 seconds\n",
      "Iteration number: 6460\n",
      "Time taken: 0.62 seconds\n",
      "Iteration number: 5795\n",
      "Time taken: 0.54 seconds\n",
      "Iteration number: 5275\n",
      "Time taken: 0.60 seconds\n",
      "Iteration number: 6189\n",
      "Time taken: 0.49 seconds\n",
      "Iteration number: 5408\n",
      "Time taken: 0.56 seconds\n",
      "Iteration number: 5906\n",
      "Time taken: 0.50 seconds\n",
      "Iteration number: 5277\n",
      "Time taken: 0.49 seconds\n",
      "Iteration number: 5001\n",
      "Time taken: 0.56 seconds\n",
      "Iteration number: 5465\n",
      "Time taken: 0.79 seconds\n",
      "Iteration number: 4916\n",
      "Time taken: 0.83 seconds\n",
      "Iteration number: 5714\n",
      "Time taken: 0.76 seconds\n",
      "Iteration number: 5284\n",
      "Time taken: 0.53 seconds\n",
      "Iteration number: 5137\n",
      "Time taken: 0.55 seconds\n",
      "Iteration number: 5607\n",
      "Time taken: 0.51 seconds\n",
      "Iteration number: 5159\n",
      "Time taken: 0.47 seconds\n",
      "Iteration number: 4940\n",
      "Time taken: 0.46 seconds\n",
      "Iteration number: 4970\n",
      "Time taken: 0.43 seconds\n",
      "Iteration number: 4488\n",
      "Time taken: 0.60 seconds\n",
      "Iteration number: 5006\n",
      "Time taken: 0.64 seconds\n",
      "Iteration number: 4543\n",
      "Time taken: 0.70 seconds\n",
      "Iteration number: 4916\n",
      "Time taken: 0.66 seconds\n",
      "Iteration number: 4822\n"
     ]
    }
   ],
   "source": [
    "mean_train = []\n",
    "mean_test = []\n",
    "lmbdas = np.logspace(-1, 1, 50)\n",
    "\n",
    "# looping through values of lambda\n",
    "for lmbda in lmbdas:\n",
    "    rmses_train = []\n",
    "    rmses_test = []\n",
    "    i = 0\n",
    "    # cross validation\n",
    "    kf = KFold(n_splits = 5, random_state = 1, shuffle = True)\n",
    "    for train_index, test_index in kf.split(X_train):\n",
    "        X_train_1 , X_test_1 = np.array(X_train.iloc[train_index]),np.array(X_train.iloc[test_index])\n",
    "        y_train_1 , y_test_1 = np.array(y_train.iloc[train_index]) , np.array(y_train.iloc[test_index])\n",
    "        # training the model\n",
    "        a, b = reg_multivariate_ols(X_train_1, y_train_1, R=0.01, MaxIterations=100000, lam=lmbda)\n",
    "        # training predictions\n",
    "        pred = model(a, b, X_train_1)\n",
    "        # computing RMSE\n",
    "        rmse_train = compute_rmse(pred,y_train_1)\n",
    "        rmses_train.append(rmse_train)\n",
    "        # testing predictions\n",
    "        pred2 = model(a, b, X_test_1)\n",
    "        # computing RMSE\n",
    "        rmse_test = compute_rmse(pred2,y_test_1)\n",
    "        rmses_test.append(rmse_test)\n",
    "        i += 1\n",
    "    # keeping track of the average RMSE for each value of lambda\n",
    "    mean_train.append(mean(rmses_train))\n",
    "    mean_test.append(mean(rmses_test))"
   ]
  },
  {
   "cell_type": "code",
   "execution_count": 48,
   "metadata": {},
   "outputs": [
    {
     "name": "stdout",
     "output_type": "stream",
     "text": [
      "[ 0.1         0.10985411  0.12067926  0.13257114  0.14563485  0.15998587\n",
      "  0.17575106  0.19306977  0.21209509  0.23299518  0.25595479  0.28117687\n",
      "  0.30888436  0.33932218  0.37275937  0.40949151  0.44984327  0.49417134\n",
      "  0.54286754  0.59636233  0.65512856  0.71968567  0.79060432  0.86851137\n",
      "  0.95409548  1.04811313  1.1513954   1.26485522  1.38949549  1.52641797\n",
      "  1.67683294  1.84206997  2.02358965  2.22299648  2.44205309  2.6826958\n",
      "  2.9470517   3.23745754  3.55648031  3.90693994  4.29193426  4.71486636\n",
      "  5.17947468  5.68986603  6.25055193  6.86648845  7.54312006  8.28642773\n",
      "  9.10298178 10.        ]\n"
     ]
    },
    {
     "data": {
      "image/png": "[encoded data removed]",
      "text/plain": [
       "<Figure size 432x288 with 1 Axes>"
      ]
     },
     "metadata": {
      "needs_background": "light"
     },
     "output_type": "display_data"
    }
   ],
   "source": [
    "print(lmbdas)\n",
    "# plotting\n",
    "fig, ax = plt.subplots(1)\n",
    "ax.scatter(lmbdas, mean_train, c = 'blue')\n",
    "ax.scatter(lmbdas, mean_test, c = 'red')\n",
    "plt.xlabel('True Value')\n",
    "ax.set_xscale('log')\n",
    "ax.set_xlabel('Lambda (log scale)')\n",
    "ax.set_ylabel('Mean Cross-Validated RMSE')\n",
    "ax.set_title('RMSE vs. Regularization Strength')\n",
    "plt.show()"
   ]
  },
  {
   "cell_type": "markdown",
   "metadata": {},
   "source": [
    "What value of lambda minimizes your cross-validated (test) RMSE? Fix that value of lambda, and train a new model using all of your training data with that value of lambda (i.e., use the entire 80% of the data that you set aside in 4.1). Calcuate the RMSE for this model on the 20% of \"true\" test data. How does your test RMSE compare to the RMSE from 4.3, 4.2, 2.3, and to the RMSE from nearest neighbors? What do you make of these results?"
   ]
  },
  {
   "cell_type": "code",
   "execution_count": 49,
   "metadata": {},
   "outputs": [
    {
     "name": "stdout",
     "output_type": "stream",
     "text": [
      "[3.6506756425642597, 3.645008564272085, 3.6384866564923053, 3.639841422559659, 3.6350855264740636, 3.629851857574663, 3.620299271938399, 3.6287767055735713, 3.6182028647146116, 3.6165792515639703, 3.623273585546612, 3.6142014333487746, 3.614427142078098, 3.607469370416297, 3.6033965807340147, 3.606954895498968, 3.59611511445351, 3.5961014244698895, 3.587612823180593, 3.592319198593114, 3.5806369639698503, 3.5787942074353856, 3.5769442879708606, 3.5775980532961635, 3.5857597173956863, 3.580702449170745, 3.5769955497882227, 3.5769892570864377, 3.58500670054247, 3.5883919370368296, 3.58379277113, 3.578437904701202, 3.577886692579158, 3.5873768381600324, 3.586929098728261, 3.5894993515087883, 3.589742067422252, 3.5948471021851915, 3.60749998871727, 3.611760202839292, 3.6180901379512194, 3.627571503596237, 3.645078346462796, 3.653180714695336, 3.6653955105269054, 3.6842500539584893, 3.6988345193462293, 3.717969618068782, 3.731808121342249, 3.7521959424196347]\n",
      "22\n",
      "0.7906043210907697\n"
     ]
    }
   ],
   "source": [
    "minval = np.argmin(mean_test)\n",
    "print(mean_test)\n",
    "print(minval)\n",
    "minlambda = lmbdas[minval]\n",
    "print(minlambda)"
   ]
  },
  {
   "cell_type": "code",
   "execution_count": 53,
   "metadata": {},
   "outputs": [
    {
     "name": "stdout",
     "output_type": "stream",
     "text": [
      "Time taken: 1.47 seconds\n",
      "Iteration number: 14087\n",
      "4.346925334933998\n"
     ]
    }
   ],
   "source": [
    "a, b = reg_multivariate_ols(X_train, y_train, R=0.01, MaxIterations=100000, lam=minlambda)\n",
    "predictions = model(a, b, X_test)\n",
    "rmse_final = compute_rmse(predictions,y_test)\n",
    "print(rmse_final)"
   ]
  },
  {
   "cell_type": "markdown",
   "metadata": {
    "id": "fJRo-C3kjl7U"
   },
   "source": [
    "How does your test RMSE compare to the RMSE from 4.3, 4.2, 3.2, and to the RMSE from nearest neighbors? What do you make of these results?\n",
    "\n",
    "4.4 results: 4.346925334933998\n",
    "4.3 results: Training RMSE: 2.791560637154338; Testing RMSE: 4.329249888142999\n",
    "4.2 results: Training RMSE: 2.719573979435247; Testing RMSE: 4.3016431756475875\n",
    "3.2 results: 6.153580529876927\n",
    "\n",
    "Using cross validation and optimizing our lambda, we find that our final RMSE is 4.34. This is worse than our results from 4.3 and 4.2, which makes sense as these RMSEs were overfitted due to the absense of cross validation. Comparing our final RMSE of 4.34 to our 3.2 RMSE of 6.15, we can see that our model using all the variables established in 4.1 is a better model even with cross validation and penalizing for complexity. The graph demonstrates that as the penalty for complexity (lambda) increases, our RMSE will get higher."
   ]
  },
  {
   "cell_type": "markdown",
   "metadata": {
    "id": "izzKtl3_jl7U"
   },
   "source": [
    "###  Extra Credit 2: AdaGrad\n",
    "\n",
    "AdaGrad is a method to implement gradient descent with different learning rates for each feature. Adaptive algorithms like this one are being extensively used especially in neural network training. Implement AdaGrad on 2.3 but now use CRIM, RM and DIS as independent variables. Standardize these variables before inputting them to the gradient descent algorithm. Tune the algorithm until you estimate the regression coefficients within a tolerance of 1e-1. Use mini-batch gradient descent in this implementation. In summary for each parameter (in our case one intercept and three slopes) the update step of the gradient (in this example $\\beta_j$) at iteration $k$ of the GD algorithm becomes:\n",
    "\n",
    "$$\\beta_j=\\beta_j -\\frac{R}{\\sqrt{G^{(k)}_j}}\\frac{\\partial J(\\alpha,\\beta_1,\\ldots)}{\\partial \\beta_j}$$ where\n",
    "$G^{(k)}_j=\\sum_{i=1}^{k} (\\frac{\\partial J^{(i)}(\\alpha,\\beta_1,\\ldots)}{\\partial \\beta_j})^2$ and $R$ is your learning rate. The notation $\\frac{\\partial J^{(i)}(\\alpha,\\beta_1,\\ldots)}{\\partial \\beta_j}$ corresponds to the value of the gradient at iteration $(i)$. Essentially we are \"storing\" information about previous iteration gradients. Doing that we effectively decrease the learning rate slower when a feature $x_i$ is sparse (i.e. has many zero values which would lead to zero gradients). Although this method is not necessary for our regression problem, it is good to be familiar with these methods as they are widely used in neural network training.  "
   ]
  },
  {
   "cell_type": "code",
   "execution_count": 38,
   "metadata": {
    "id": "n-fxLK0Rjl7V"
   },
   "outputs": [],
   "source": [
    "# Your code here"
   ]
  },
  {
   "cell_type": "markdown",
   "metadata": {
    "id": "bAa0A7Zzjl7V"
   },
   "source": [
    "*Discuss your results here*"
   ]
  }
 ],
 "metadata": {
  "anaconda-cloud": {},
  "colab": {
   "name": "_INFO251_PS4_2022_Feb22.ipynb",
   "provenance": []
  },
  "kernelspec": {
   "display_name": "Python 3",
   "language": "python",
   "name": "python3"
  },
  "language_info": {
   "codemirror_mode": {
    "name": "ipython",
    "version": 3
   },
   "file_extension": ".py",
   "mimetype": "text/x-python",
   "name": "python",
   "nbconvert_exporter": "python",
   "pygments_lexer": "ipython3",
   "version": "3.8.8"
  }
 },
 "nbformat": 4,
 "nbformat_minor": 1
}
