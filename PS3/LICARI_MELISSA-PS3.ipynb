{
 "cells": [
  {
   "cell_type": "markdown",
   "metadata": {},
   "source": [
    "# Problem Set 3\n",
    "\n",
    "### Before You Start\n",
    "\n",
    "Make sure the following libraries load correctly (hit Ctrl-Enter). Note that while you are loading several powerful libraries, including machine learning libraries, the goal of this problem set is to implement several algorithms from scratch. In particular, you should *not* be using any built-in libraries for nearest neighbors, distance metrics, or cross-validation -- your mission is to write those algorithms in Python! Part 1 will be relatively easy; Part 2 will take more time."
   ]
  },
  {
   "cell_type": "code",
   "execution_count": 1,
   "metadata": {
    "jupyter": {
     "outputs_hidden": true
    }
   },
   "outputs": [],
   "source": [
    "import IPython\n",
    "import numpy as np\n",
    "import scipy as sp\n",
    "import pandas as pd\n",
    "import matplotlib\n",
    "import sklearn\n",
    "import math\n",
    "import time"
   ]
  },
  {
   "cell_type": "code",
   "execution_count": 2,
   "metadata": {
    "jupyter": {
     "outputs_hidden": true
    }
   },
   "outputs": [],
   "source": [
    "%matplotlib inline  \n",
    "import matplotlib.pyplot as plt  "
   ]
  },
  {
   "cell_type": "markdown",
   "metadata": {},
   "source": [
    "---\n",
    "\n",
    "## Introduction to the assignment\n",
    "\n",
    "For this assignment, you will be using the [Boston Housing Prices Data Set](http://www.kellogg.northwestern.edu/faculty/weber/emp/_session_3/boston.htm).  Please read about the dataset carefully before continuing.  Use the following commands to load the dataset:\n",
    "\n",
    "*NOTE - This dataset is similar to the one you used in PS1; we are just using a different method to load it this time. The column names and their order will remain the same for this dataset as was in PS1.*"
   ]
  },
  {
   "cell_type": "code",
   "execution_count": 3,
   "metadata": {
    "jupyter": {
     "outputs_hidden": true
    }
   },
   "outputs": [],
   "source": [
    "# load Boston housing data set\n",
    "data = np.loadtxt('data.txt')\n",
    "target = np.loadtxt('target.txt')"
   ]
  },
  {
   "cell_type": "code",
   "execution_count": 4,
   "metadata": {},
   "outputs": [
    {
     "name": "stdout",
     "output_type": "stream",
     "text": [
      "(506, 13)\n",
      "(506,)\n"
     ]
    }
   ],
   "source": [
    "print(data.shape)\n",
    "print(target.shape)"
   ]
  },
  {
   "cell_type": "code",
   "execution_count": 5,
   "metadata": {},
   "outputs": [],
   "source": [
    "# adding column names and turning data into a dataframe\n",
    "col = ['CRIM', 'ZN', 'INDUS', 'CHAS', 'NOX', 'RM', 'AGE', 'DIS', 'RAD', 'TAX', 'PTRATIO',\n",
    " 'B', 'LSTAT']\n",
    "df = pd.DataFrame(data, columns = col)\n",
    "df['MEDV'] = target"
   ]
  },
  {
   "cell_type": "markdown",
   "metadata": {},
   "source": [
    "---\n",
    "\n",
    "## Part 1: Experimental Setup\n",
    "\n",
    "The goal of the next few sections is to design an experiment to predict the median home value for an instance in the data.\n",
    "Before beginning the \"real\" work, refamiliarize yourself with the dataset."
   ]
  },
  {
   "cell_type": "code",
   "execution_count": 6,
   "metadata": {},
   "outputs": [
    {
     "name": "stdout",
     "output_type": "stream",
     "text": [
      "       CRIM    ZN     INDUS  CHAS       NOX        RM   AGE       DIS  RAD  \\\n",
      "0  0.218960  18.0  2.629288   0.0  0.869420  6.875396  65.2  4.347275  1.0   \n",
      "1  0.141576   0.0  7.315612   0.0  0.549711  6.499894  78.9  5.315684  2.0   \n",
      "2  0.380457   0.0  7.340354   0.0  0.697928  7.263489  61.1  5.356935  2.0   \n",
      "3  0.313563   0.0  2.562407   0.0  0.599629  7.209732  45.8  6.103983  3.0   \n",
      "4  0.330105   0.0  2.497337   0.0  0.476077  7.184111  54.2  6.264372  3.0   \n",
      "\n",
      "     TAX    PTRATIO           B     LSTAT  MEDV  \n",
      "0  307.0  15.534711  397.462329  5.715647  24.0  \n",
      "1  255.0  17.914131  397.012611  9.338417  21.6  \n",
      "2  243.0  17.919989  396.628236  4.142473  34.7  \n",
      "3  226.0  18.979527  398.564784  3.239272  33.4  \n",
      "4  234.0  18.708888  399.487766  6.115159  36.2  \n",
      "CRIM       0\n",
      "ZN         0\n",
      "INDUS      0\n",
      "CHAS       0\n",
      "NOX        0\n",
      "RM         0\n",
      "AGE        0\n",
      "DIS        0\n",
      "RAD        0\n",
      "TAX        0\n",
      "PTRATIO    0\n",
      "B          0\n",
      "LSTAT      0\n",
      "MEDV       0\n",
      "dtype: int64\n"
     ]
    },
    {
     "data": {
      "text/plain": [
       "CRIM       float64\n",
       "ZN         float64\n",
       "INDUS      float64\n",
       "CHAS       float64\n",
       "NOX        float64\n",
       "RM         float64\n",
       "AGE        float64\n",
       "DIS        float64\n",
       "RAD        float64\n",
       "TAX        float64\n",
       "PTRATIO    float64\n",
       "B          float64\n",
       "LSTAT      float64\n",
       "MEDV       float64\n",
       "dtype: object"
      ]
     },
     "execution_count": 6,
     "metadata": {},
     "output_type": "execute_result"
    }
   ],
   "source": [
    "# investigating dataframe\n",
    "print(df.head())\n",
    "print(df.isnull().sum())\n",
    "df.dtypes"
   ]
  },
  {
   "cell_type": "markdown",
   "metadata": {},
   "source": [
    "### 1.1 Begin by writing a function to compute the Root Mean Squared Error for a list of numbers\n",
    "\n",
    "You can find the sqrt function in the Numpy package. Furthermore the details of RMSE can be found on [Wikipedia](http://en.wikipedia.org/wiki/Root-mean-square_deviation). Do not use a built-in function  to compute RMSE, other than numpy functions like `sqrt` and if needed, `sum` or other relevant ones."
   ]
  },
  {
   "cell_type": "code",
   "execution_count": 7,
   "metadata": {
    "jupyter": {
     "outputs_hidden": true
    }
   },
   "outputs": [],
   "source": [
    "\"\"\"\n",
    "Function\n",
    "--------\n",
    "compute_rmse\n",
    "\n",
    "Given two arrays, one of actual values and one of predicted values,\n",
    "compute the Roote Mean Squared Error\n",
    "\n",
    "Parameters\n",
    "----------\n",
    "predictions : array\n",
    "    Array of numerical values corresponding to predictions for each of the N observations\n",
    "\n",
    "yvalues : array\n",
    "    Array of numerical values corresponding to the actual values for each of the N observations\n",
    "\n",
    "Returns\n",
    "-------\n",
    "rmse : int\n",
    "    Root Mean Squared Error of the prediction\n",
    "\n",
    "Example\n",
    "-------\n",
    ">>> print(compute_rmse((4,6,3),(2,1,4)))\n",
    "3.16\n",
    "\"\"\"\n",
    "\n",
    "def compute_rmse(predictions, yvalues):\n",
    "    # taking the difference between the 2 arrays\n",
    "    diffs = (np.array(yvalues)-np.array(predictions))\n",
    "    # squaring the differences\n",
    "    squares = np.square(diffs)\n",
    "    # summing the squares\n",
    "    s = np.sum(squares)\n",
    "    # dividing by the length\n",
    "    inside = s/len(diffs)\n",
    "    # taking the square root\n",
    "    rmse = math.sqrt(inside)\n",
    "    return rmse"
   ]
  },
  {
   "cell_type": "code",
   "execution_count": 8,
   "metadata": {
    "jupyter": {
     "outputs_hidden": true
    }
   },
   "outputs": [
    {
     "name": "stdout",
     "output_type": "stream",
     "text": [
      "3.1622776601683795\n"
     ]
    }
   ],
   "source": [
    "# testing the compute_rmse function\n",
    "print(compute_rmse((4,6,3),(2,1,4)))"
   ]
  },
  {
   "cell_type": "markdown",
   "metadata": {},
   "source": [
    "### 1.2 Divide your data into training and testing datasets\n",
    "\n",
    "Randomly select 75% of the data and put this in a training dataset (call this \"bdata_train\"), and place the remaining 25% in a testing dataset (call this \"bdata_test\"). Do not use built-in functions.\n",
    "\n",
    "To perform any randomized operation, only use functions in the *numpy library (np.random)*. Do not use other packages for random functions."
   ]
  },
  {
   "cell_type": "code",
   "execution_count": 9,
   "metadata": {
    "jupyter": {
     "outputs_hidden": true
    }
   },
   "outputs": [
    {
     "name": "stdout",
     "output_type": "stream",
     "text": [
      "Total examples: 506\n",
      "Number of training examples: 379\n",
      "Number of testing examples: 127\n"
     ]
    }
   ],
   "source": [
    "# leave the following line untouched, it will help ensure that your \"random\" split is the same \"random\" split used by the rest of the class\n",
    "np.random.seed(seed=13579)\n",
    "\n",
    "# splits data into training and testing sets\n",
    "train_percent = .75\n",
    "train_number = int(train_percent*len(data))\n",
    "print('Total examples: %i' % len(data))\n",
    "print('Number of training examples: %i' % train_number)\n",
    "print('Number of testing examples: %i' % (len(data) - train_number))\n",
    "\n",
    "ids = np.arange(0, len(df), 1)\n",
    "ids = np.random.permutation(ids)\n",
    "df_shuffled = df.iloc[ids]\n",
    "bdata_train = df_shuffled[:train_number]\n",
    "bdata_test = df_shuffled[train_number:]"
   ]
  },
  {
   "cell_type": "markdown",
   "metadata": {},
   "source": [
    "### 1.3 Use a very bad baseline for prediction, and compute RMSE\n",
    "\n",
    "Let's start by creating a very bad baseline model that predicts median home values as the averages of `MEDV` based on adjacency to Charles River. \n",
    "\n",
    "Specifically, create a model that predicts, for every observation X_i, the median home value as the average of the median home values of all houses in the **training set** that have the same adjacency value as the observation.\n",
    "\n",
    "For example - For an input observation where `CHAS==1`, the model should predict the `MEDV` as the mean of all `MEDV` values in the training set that also have `CHAS==1`.\n",
    "\n",
    "\n",
    "\n",
    "Once the model is built, do the following:\n",
    "\n",
    "1. Compute the RMSE of the training set.\n",
    "2. Now compute the RMSE of the test data set (but use the model you trained on the training set!).\n",
    "3. How does RMSE compare for training vs. testing datasets? Is this what you expected, and why?\n",
    "4. Create a scatter plot that shows the true value of each instance on the x-axis and the predicted value of each instance on the y-axis. Color the training instances in red and the test instances in blue. Make sure to label your axes appropriately, and add a legend to your figure to make clear which dots are which.\n",
    "5. Add code to your function to measure the running time of your algorithm. How long does it take to compute the predicted values for the test data?\n",
    "\n",
    "\n",
    "*NOTE - Be careful while dealing with floats and integers. Additionally, the `groupby` operation might come handy here.*"
   ]
  },
  {
   "cell_type": "code",
   "execution_count": 10,
   "metadata": {
    "jupyter": {
     "outputs_hidden": true
    }
   },
   "outputs": [],
   "source": [
    "def model(dataset):\n",
    "    start_time = time.time() # 1.3.5\n",
    "    # sets prediction values\n",
    "    pred = bdata_train['MEDV'].groupby(bdata_train['CHAS']).mean()\n",
    "\n",
    "    # assigns predictions for each value of the dataset\n",
    "    predicted = []\n",
    "    for i in dataset['CHAS']:\n",
    "        if i == 0:\n",
    "            predicted.append(pred[0])\n",
    "        else:\n",
    "            predicted.append(pred[1])\n",
    "    t1 = time.time() - start_time # 1.3.5\n",
    "    print(\"Time taken: {:.2f} seconds\".format(time.time() - start_time))\n",
    "    return predicted"
   ]
  },
  {
   "cell_type": "markdown",
   "metadata": {},
   "source": [
    "**1.3.1 Compute the RMSE of the training set.**"
   ]
  },
  {
   "cell_type": "code",
   "execution_count": 11,
   "metadata": {},
   "outputs": [
    {
     "name": "stdout",
     "output_type": "stream",
     "text": [
      "Time taken: 0.00 seconds\n",
      "8.963434181280334\n"
     ]
    }
   ],
   "source": [
    "pred_train = model(bdata_train)\n",
    "print(compute_rmse(pred_train, bdata_train['MEDV']))"
   ]
  },
  {
   "cell_type": "markdown",
   "metadata": {},
   "source": [
    "**1.3.2 Now compute the RMSE of the test data set (but use the model you trained on the training set!).**"
   ]
  },
  {
   "cell_type": "code",
   "execution_count": 12,
   "metadata": {
    "scrolled": true
   },
   "outputs": [
    {
     "name": "stdout",
     "output_type": "stream",
     "text": [
      "Time taken: 0.00 seconds\n",
      "9.292691153610612\n"
     ]
    }
   ],
   "source": [
    "pred_test = model(bdata_test)\n",
    "print(compute_rmse(pred_test, bdata_test['MEDV']))"
   ]
  },
  {
   "cell_type": "markdown",
   "metadata": {},
   "source": [
    "**1.3.3\n",
    "How does RMSE compare for training vs. testing datasets? Is this what you expected, and why?**\n",
    "\n",
    "The RMSE for the training set is 8.96, while the RMSE for the testing set is 9.29. It makes sense that the RMSE would be worse for the testing set since the RMSE for the training set was trained with the same data, while the testing set is new to the model."
   ]
  },
  {
   "cell_type": "markdown",
   "metadata": {},
   "source": [
    "**1.3.4 Create a scatter plot that shows the true value of each instance on the x-axis and the predicted value of each instance on the y-axis. Color the training instances in red and the test instances in blue. Make sure to label your axes appropriately, and add a legend to your figure to make clear which dots are which.**\n"
   ]
  },
  {
   "cell_type": "code",
   "execution_count": 13,
   "metadata": {},
   "outputs": [
    {
     "data": {
      "image/png": "[encoded data removed]",
      "text/plain": [
       "<Figure size 432x288 with 1 Axes>"
      ]
     },
     "metadata": {
      "needs_background": "light"
     },
     "output_type": "display_data"
    }
   ],
   "source": [
    "fig, ax = plt.subplots(1)\n",
    "ax.scatter(bdata_test['MEDV'].values, pred_test, c = 'blue', label= 'Test')\n",
    "ax.scatter(bdata_train['MEDV'].values, pred_train, c = 'red', label = 'Training')\n",
    "plt.xlabel('True Value')\n",
    "plt.ylabel('Predicted Value')\n",
    "\n",
    "ax = plt.gca()\n",
    "ax.legend(loc=\"best\")\n",
    "ax.spines['right'].set_color('none')\n",
    "ax.spines['top'].set_color('none')\n",
    "ax.yaxis.set_ticks_position('none')\n",
    "ax.xaxis.set_ticks_position('none')\n",
    "plt.show()"
   ]
  },
  {
   "cell_type": "markdown",
   "metadata": {},
   "source": [
    "**1.3.5 Add code to your function to measure the running time of your algorithm. How long does it take to compute the predicted values for the test data?**\n",
    "\n",
    "Time taken: 0.01 seconds to compute the predicted values for the test data."
   ]
  },
  {
   "cell_type": "markdown",
   "metadata": {},
   "source": [
    "---\n",
    "\n",
    "## Part 2: Nearest Neighbors\n"
   ]
  },
  {
   "cell_type": "markdown",
   "metadata": {},
   "source": [
    "### 2.1 Nearest Neighbors: Distance function\n",
    "Let's try and build a machine learning algorithm to beat the \"Average Value\" baseline that you computed above.  Soon you will implement the Nearest Neighbor algorithm, but first you need to create a distance metric to measure the distance (and similarity) between two instances.  Write a generic function to compute the L-Norm distance (called the [*p*-norm][1] distance on Wikipedia). Verify that your function works by computing the Euclidean distance between the points (2,7) and (5,11), and then compute the Manhattan distance between (4,4) and (12,10).\n",
    "\n",
    "[1]: https://en.wikipedia.org/wiki/Norm_(mathematics)#p-norm"
   ]
  },
  {
   "cell_type": "code",
   "execution_count": 14,
   "metadata": {},
   "outputs": [],
   "source": [
    "\"\"\"\n",
    "Function\n",
    "--------\n",
    "distance\n",
    "\n",
    "Given two instances and a value for L, return the L-Norm distance between them\n",
    "\n",
    "Parameters\n",
    "----------\n",
    "x1, x2 : array\n",
    "    Array of numerical values corresponding to predictions for each of the N observations\n",
    "\n",
    "L: int\n",
    "    Value of L to use in computing distances\n",
    "\n",
    "Returns\n",
    "-------\n",
    "dist : int\n",
    "    The L-norm distance between instances\n",
    "\n",
    "Example\n",
    "-------\n",
    ">>> print(distance((2,7),(5,11),2))\n",
    "5\n",
    "\n",
    "\"\"\"\n",
    "# distance function\n",
    "\n",
    "def distance(x1, x2, L):\n",
    "    x1 = np.array(x1)\n",
    "    x2 = np.array(x2)\n",
    "    dist = (np.sum((np.absolute((np.array(x1) - np.array(x2))))**L, axis =-1))**(1/L)\n",
    "    return dist"
   ]
  },
  {
   "cell_type": "code",
   "execution_count": 15,
   "metadata": {},
   "outputs": [
    {
     "name": "stdout",
     "output_type": "stream",
     "text": [
      "5.0\n"
     ]
    }
   ],
   "source": [
    "# testing Euclidean distance\n",
    "print(distance((2,7),(5,11),2))\n"
   ]
  },
  {
   "cell_type": "code",
   "execution_count": 16,
   "metadata": {},
   "outputs": [
    {
     "name": "stdout",
     "output_type": "stream",
     "text": [
      "14.0\n"
     ]
    }
   ],
   "source": [
    "# testing Manhattan distance\n",
    "print(distance((4,4),(12,10),1))"
   ]
  },
  {
   "cell_type": "markdown",
   "metadata": {},
   "source": [
    "### 2.2 Basic Nearest Neighbor algorithm\n",
    "\n",
    "Your next task is to implement a basic nearest neighbor algorithm from scratch.  Your simple model will use three input features (`CRIM, RM and ZN`) and a single output (`MEDV`).  In other words, you are modelling the relationship between median home value and crime rates, house size and the proportion of residential land zoned for lots.\n",
    "\n",
    "Use your training data (bdata_train) to \"fit\" your model, although as you know, with Nearest Neighbors there is no real training, you just need to keep your training data in memory.  Write a function that predicts the median home value using the nearest neighbor algorithm we discussed in class.  Since this is a small dataset, you can simply compare your test instance to every instance in the training set, and return the `MEDV` value of the closest training instance.  Have your function take L as an input, where L is passed to the distance function. Use L=2 for all questions henceforth unless explicitly stated otherwise.\n",
    "\n",
    "Make sure to do the following - \n",
    "1. Fill in the function specification below\n",
    "2. Use your algorithm to predict the median home value of every instance in the test set. Report the RMSE (\"test RMSE\")\n",
    "3. Use your algorithm to predict the median home value of every instance in the training set and report the training RMSE.\n",
    "4. Create a scatter plot that shows the true value of each instance on the x-axis and the predicted value of each instance on the y-axis. Color the training instances in red and the test instances in blue. \n",
    "5. Report an estimate of the total time taken by your code to predict the nearest neighbors for all the values in the test data set.\n",
    "6. How does the performance (test RMSE and total runtime) of your nearest neighbors algorithm compare to the baseline in part 1.3?"
   ]
  },
  {
   "cell_type": "markdown",
   "metadata": {},
   "source": [
    "**2.2.1 Fill in the function specification below**"
   ]
  },
  {
   "cell_type": "code",
   "execution_count": 17,
   "metadata": {
    "jupyter": {
     "outputs_hidden": true
    }
   },
   "outputs": [],
   "source": [
    "\"\"\"\n",
    "Function\n",
    "--------\n",
    "Nearest Neighbors\n",
    "\n",
    "Implementation of nearest neighbors algorithm.\n",
    "\n",
    "Parameters\n",
    "----------\n",
    "x_train: array\n",
    "    Array of numerical feature values for training the model.\n",
    "y_train: array\n",
    "    Array of numerical output values for training the model.\n",
    "x_test: array\n",
    "    Array of numerical feature values for testing the model.\n",
    "y_test: array\n",
    "    Array of numerical output values for testing the model.\n",
    "L: int\n",
    "    Order of L-norm function used for calculating distance.\n",
    "\n",
    "Returns\n",
    "-------\n",
    "rmse : int\n",
    "    Value of the RMSE from data.\n",
    "\"\"\"\n",
    "\n",
    "# function predicts the median home value using the nearest neighbor algorithm\n",
    "def nneighbor(x_train, y_train, x_test, y_test, L):\n",
    "    start_time = time.time()\n",
    "    \n",
    "    pred = []\n",
    "\n",
    "    for i in range(len(x_test)):\n",
    "        # finds the distance\n",
    "        dists = distance(np.array(x_test[i]), np.array(x_train), L)\n",
    "        # finds the smallest distance\n",
    "        closest_point = np.argmin(dists)\n",
    "        # appends closest point to the predictions array\n",
    "        pred.append(np.array(y_train)[closest_point])\n",
    "    # computes RMSE of the predictions and the test values\n",
    "    rmse = compute_rmse(pred, y_test)   \n",
    "    print(\"Time taken: {:.2f} seconds\".format(time.time() - start_time))\n",
    "    return rmse, pred\n"
   ]
  },
  {
   "cell_type": "markdown",
   "metadata": {},
   "source": [
    "**2.2.2 Use your algorithm to predict the median home value of every instance in the test set. Report the RMSE (\"test RMSE\")**"
   ]
  },
  {
   "cell_type": "code",
   "execution_count": 18,
   "metadata": {},
   "outputs": [
    {
     "name": "stdout",
     "output_type": "stream",
     "text": [
      "Time taken: 0.00 seconds\n",
      "7.11504450215995\n"
     ]
    }
   ],
   "source": [
    "# specifying the data to pass into the nneighbor function\n",
    "x_train = bdata_train[['CRIM','RM','ZN']].values\n",
    "y_train = bdata_train[['MEDV']]\n",
    "x_test = bdata_test[['CRIM','RM','ZN']].values\n",
    "y_test = bdata_test[['MEDV']]\n",
    "\n",
    "# using algorithm to predict median home value of every instance in the test set\n",
    "rmse_test, test_pred = nneighbor(x_train,y_train,x_test,y_test , 2)\n",
    "print(rmse_test)"
   ]
  },
  {
   "cell_type": "markdown",
   "metadata": {},
   "source": [
    "**2.2.3 Use your algorithm to predict the median home value of every instance in the training set and report the training RMSE.**"
   ]
  },
  {
   "cell_type": "code",
   "execution_count": 19,
   "metadata": {},
   "outputs": [
    {
     "name": "stdout",
     "output_type": "stream",
     "text": [
      "Time taken: 0.01 seconds\n",
      "0.0\n"
     ]
    }
   ],
   "source": [
    "rmse_train, train_pred = nneighbor(x_train,y_train,x_train,y_train , 2)\n",
    "print(rmse_train)"
   ]
  },
  {
   "cell_type": "markdown",
   "metadata": {},
   "source": [
    "**2.2.4 Create a scatter plot that shows the true value of each instance on the x-axis and the predicted value \n",
    "of each instance on the y-axis. Color the training instances in red and the test instances in blue.**"
   ]
  },
  {
   "cell_type": "code",
   "execution_count": 20,
   "metadata": {},
   "outputs": [
    {
     "data": {
      "image/png": "[encoded data removed]",
      "text/plain": [
       "<Figure size 432x288 with 1 Axes>"
      ]
     },
     "metadata": {
      "needs_background": "light"
     },
     "output_type": "display_data"
    }
   ],
   "source": [
    "# creating the scatter plot\n",
    "fig, ax = plt.subplots(1)\n",
    "ax.scatter(bdata_test[['MEDV']], test_pred, c = 'blue', label = 'Test')\n",
    "ax.scatter(bdata_train[['MEDV']], train_pred, c = 'red', label = 'Training')\n",
    "plt.xlabel('True Value')\n",
    "plt.ylabel('Predicted Value')\n",
    "\n",
    "ax = plt.gca()\n",
    "ax.legend(loc=\"best\")\n",
    "ax.spines['right'].set_color('none')\n",
    "ax.spines['top'].set_color('none')\n",
    "ax.yaxis.set_ticks_position('none')\n",
    "ax.xaxis.set_ticks_position('none')\n",
    "plt.show()"
   ]
  },
  {
   "cell_type": "markdown",
   "metadata": {},
   "source": [
    "**2.2.5 Report an estimate of the total time taken by your code to predict the nearest neighbors for all the values in the test data set.**\n",
    "\n",
    "The time taken to predict the nearest neighbors for all the values in the test data set was calculated in 2.2.2 and is:\n",
    "\n",
    "Time taken: 0.01 seconds"
   ]
  },
  {
   "cell_type": "markdown",
   "metadata": {},
   "source": [
    "**2.2.6 How does the performance (test RMSE and total runtime) of your nearest neighbors algorithm compare to the baseline in part 1.3?**\n",
    "\n",
    "NN Test RMSE: 7.11504450215995\n",
    "Time taken: 0.01 seconds\n",
    "\n",
    "Baseline Test RMSE: 9.292691153610612\n",
    "Time taken: 0.01 seconds\n",
    "\n",
    "The RMSE for the nearest neighbors algorithm is better than that of the baseline. The run times appear to be equivalent."
   ]
  },
  {
   "cell_type": "markdown",
   "metadata": {},
   "source": [
    "### 2.3 Results and Normalization\n",
    "\n",
    "If you were being astute, you would have noticed that we never normalized our features -- a big no-no with Nearest Neighbor algorithms.  Write a generic normalization function that takes as input an array of values for a given feature, and returns the standardized array (subtract the mean and divide by the standard deviation).\n",
    "\n",
    "Re-run the Nearest Neighbor algorithm on the normalized dataset (still just using `CRIM, RM and ZN` as input), and compare the RMSE from this method with your previous RMSE evaluations. What do you observe?\n",
    "\n",
    "*NOTE*: To normalize properly, you should compute the mean and standard deviation on the training set, and use the same values to normalize both the training and the testing dataset.\n",
    "\n",
    "*NOTE 2*: In this case, the normalization may or may not reduce the RMSE; don't get confused if you find that to be the case."
   ]
  },
  {
   "cell_type": "code",
   "execution_count": 21,
   "metadata": {
    "jupyter": {
     "outputs_hidden": true
    }
   },
   "outputs": [],
   "source": [
    "\"\"\"\n",
    "Function\n",
    "--------\n",
    "Normalize data\n",
    "\n",
    "Normalize all of the features in a data frame.\n",
    "\n",
    "Parameters\n",
    "----------\n",
    "raw_data: array\n",
    "    Array of numerical values to normalize.\n",
    "\n",
    "Returns\n",
    "-------\n",
    "normalized_data : array\n",
    "    The array with normalized values for all features\n",
    "\"\"\"\n",
    "# normalization function - takes in data, standard deviation, and mean\n",
    "def normalize(raw_data,s,m):\n",
    "    raw_data = np.array(raw_data)\n",
    "    normalized_data = (raw_data - m)/s\n",
    "    return normalized_data\n"
   ]
  },
  {
   "cell_type": "code",
   "execution_count": 22,
   "metadata": {},
   "outputs": [
    {
     "name": "stdout",
     "output_type": "stream",
     "text": [
      "Time taken: 0.00 seconds\n",
      "7.455732878524116\n",
      "Time taken: 0.01 seconds\n",
      "0.0\n"
     ]
    }
   ],
   "source": [
    "# calculating standard deviation and mean\n",
    "s = np.std(np.array(bdata_train[['CRIM','RM','ZN']]), axis=0)\n",
    "m = np.mean(np.array(bdata_train[['CRIM','RM','ZN']]), axis=0)\n",
    "\n",
    "# normalizing data\n",
    "x_train = normalize(bdata_train[['CRIM','RM','ZN']], s,m)\n",
    "x_test = normalize(bdata_test[['CRIM','RM','ZN']], s,m)\n",
    "\n",
    "# rerunning nearest neighbors with normalized data on test set\n",
    "rmse_test, test_pred = nneighbor(x_train,bdata_train[['MEDV']],x_test,bdata_test[['MEDV']] , 2)\n",
    "print(rmse_test)\n",
    "\n",
    "# rerunning nearest neighbors with normalized data on training set\n",
    "rmse_train, train_pred = nneighbor(x_train,bdata_train[['MEDV']],x_train,bdata_train[['MEDV']] , 2)\n",
    "print(rmse_train)"
   ]
  },
  {
   "cell_type": "markdown",
   "metadata": {},
   "source": [
    "Training results without normalization:\n",
    "Time taken: 0.02 seconds\n",
    "0.0\n",
    "\n",
    "Training results with normalization:\n",
    "Time taken: 0.02 seconds\n",
    "0.0\n",
    "\n",
    "Test results without normalization:\n",
    "Time taken: 0.01 seconds\n",
    "7.11504450215995\n",
    "\n",
    "Test results with normalization:\n",
    "Time taken: 0.01 seconds\n",
    "7.455732878524116\n",
    "\n",
    "We can see that the training RMSE and the time taken does not change before and after normalizing the data. This makes sense because the nearest neighbor algorithm was trained with the training data and should not be calculating any difference in distance between the closest point, as there should be a corresponding point because the training set is the same.\n",
    "\n",
    "We can see that the test RMSE increased after normalization, reflecting the changes in distance after the data has been made proportional in our nearest neighbors algorithm. The time taken between for the test data between the normalized and non-normalized data is equivalent."
   ]
  },
  {
   "cell_type": "markdown",
   "metadata": {},
   "source": [
    "### 2.4 Optimization\n",
    "\n",
    "A lot of the decisions we've made so far have been arbitrary.  Try to increase the performance of your nearest neighbor algorithm by adding features that you think might be relevant, and by using different values of L in the distance function.  Try a model that uses a different set of 2 features, then try at least one model that uses more than 4 features, then try using a different value of L.  If you're having fun, try a few different combinations of features and L! Use the test set to report the RMSE values.\n",
    "\n",
    "What combination of features and distance function provide the lowest RMSE on the test set?  Do your decisions affect the running time of the algorithm?\n",
    "\n",
    "*NOTE:* For this and all subsequent questions, you should use normalized features. "
   ]
  },
  {
   "cell_type": "markdown",
   "metadata": {},
   "source": [
    "In PS1, we saw a saw the strongest correlations between MEDV, RM, and ZN. So I will first attempt a model with these features"
   ]
  },
  {
   "cell_type": "code",
   "execution_count": 23,
   "metadata": {
    "jupyter": {
     "outputs_hidden": true
    }
   },
   "outputs": [
    {
     "name": "stdout",
     "output_type": "stream",
     "text": [
      "Time taken: 0.00 seconds\n",
      "9.346160102492217\n",
      "Time taken: 0.01 seconds\n",
      "0.0\n"
     ]
    }
   ],
   "source": [
    "s1 = np.std(np.array(bdata_train[['RM','ZN']]), axis=0)\n",
    "m1 = np.mean(np.array(bdata_train[['RM','ZN']]), axis=0)\n",
    "\n",
    "x_train1 = normalize(bdata_train[['RM','ZN']], s1,m1)\n",
    "x_test1 = normalize(bdata_test[['RM','ZN']], s1,m1)\n",
    "\n",
    "rmse_test1, test_pred1 = nneighbor(x_train1,bdata_train[['MEDV']],x_test1,bdata_test[['MEDV']] , 2)\n",
    "print(rmse_test1)\n",
    "\n",
    "rmse_train1, train_pred1 = nneighbor(x_train1,bdata_train[['MEDV']],x_train1,bdata_train[['MEDV']] , 2)\n",
    "print(rmse_train1)"
   ]
  },
  {
   "cell_type": "markdown",
   "metadata": {},
   "source": [
    "I also want to try features with the lowest correlation, so I will try LSTAT and INDUS"
   ]
  },
  {
   "cell_type": "code",
   "execution_count": 24,
   "metadata": {},
   "outputs": [
    {
     "name": "stdout",
     "output_type": "stream",
     "text": [
      "Time taken: 0.00 seconds\n",
      "7.1875110407309935\n",
      "Time taken: 0.01 seconds\n",
      "0.0\n"
     ]
    }
   ],
   "source": [
    "s2 = np.std(np.array(bdata_train[['LSTAT','INDUS']]), axis=0)\n",
    "m2 = np.mean(np.array(bdata_train[['LSTAT','INDUS']]), axis=0)\n",
    "\n",
    "x_train2 = normalize(bdata_train[['LSTAT','INDUS']], s2,m2)\n",
    "x_test2 = normalize(bdata_test[['LSTAT','INDUS']], s2,m2)\n",
    "\n",
    "rmse_test2, test_pred2 = nneighbor(x_train2,bdata_train[['MEDV']],x_test2,bdata_test[['MEDV']] , 2)\n",
    "print(rmse_test2)\n",
    "\n",
    "rmse_train2, train_pred2 = nneighbor(x_train2,bdata_train[['MEDV']],x_train2,bdata_train[['MEDV']] , 2)\n",
    "print(rmse_train2)"
   ]
  },
  {
   "cell_type": "markdown",
   "metadata": {},
   "source": [
    "Now I will try all 4 features above and include TAX with different distances"
   ]
  },
  {
   "cell_type": "code",
   "execution_count": 25,
   "metadata": {},
   "outputs": [
    {
     "name": "stdout",
     "output_type": "stream",
     "text": [
      "Time taken: 0.00 seconds\n",
      "5.981658316927876\n",
      "Time taken: 0.01 seconds\n",
      "0.0\n",
      "Time taken: 0.01 seconds\n",
      "5.988006385470956\n",
      "Time taken: 0.00 seconds\n",
      "5.910187387945489\n"
     ]
    }
   ],
   "source": [
    "s3 = np.std(np.array(bdata_train[['LSTAT','INDUS','RM','ZN','TAX']]), axis=0)\n",
    "m3 = np.mean(np.array(bdata_train[['LSTAT','INDUS','RM','ZN','TAX']]), axis=0)\n",
    "\n",
    "x_train3 = normalize(bdata_train[['LSTAT','INDUS','RM','ZN','TAX']], s3,m3)\n",
    "x_test3 = normalize(bdata_test[['LSTAT','INDUS','RM','ZN','TAX']], s3,m3)\n",
    "\n",
    "# Euclidean distance\n",
    "rmse_test3, test_pred3 = nneighbor(x_train3,bdata_train[['MEDV']],x_test3,bdata_test[['MEDV']] , 2)\n",
    "print(rmse_test3)\n",
    "\n",
    "rmse_train3, train_pred3 = nneighbor(x_train3,bdata_train[['MEDV']],x_train3,bdata_train[['MEDV']] , 2)\n",
    "print(rmse_train3)\n",
    "\n",
    "# L=3\n",
    "rmse_test_m4, test_pred_m4 = nneighbor(x_train3,bdata_train[['MEDV']],x_test3,bdata_test[['MEDV']], 3)\n",
    "print(rmse_test_m4)\n",
    "\n",
    "# Manhattan Distance\n",
    "rmse_test_m5, test_pred_m5 = nneighbor(x_train3,bdata_train[['MEDV']],x_test3,bdata_test[['MEDV']], 1)\n",
    "print(rmse_test_m5)"
   ]
  },
  {
   "cell_type": "markdown",
   "metadata": {},
   "source": [
    "What combination of features and distance function provide the lowest RMSE on the test set? Do your decisions affect the running time of the algorithm?\n",
    "\n",
    "The combination of features that provided the lowest RMSE (5.910187387945489) on the test set was the features: LSTAT, INDUS, RM, ZN, and TAX with the manhattan distance (L=1). My decisions did not seem to affect the running time of the algorithm, at least not within one hundreth of a second."
   ]
  },
  {
   "cell_type": "markdown",
   "metadata": {},
   "source": [
    "### 2.5 Cross-Validation\n",
    "\n",
    "The more you tinkered with your features and distance function, the higher the risk that you overfit your training data.  One solution to this sort of overfitting is to use cross-validation (see K-fold [cross-validation][1].  Here you must implement a simple k-fold cross-validation algorithm yourself.  The function you write here will be used several more times in this problem set, so do your best to write efficient code! (Note that the sklearn package has a built-in [K-fold][2] iterator -- you should *not* be invoking that or any related algorithms in this section of the problem set.)\n",
    "\n",
    "Use 25-fold cross-validation and report the average RMSE for Nearest Neighbors using Euclidean distance with `CRIM,RM and ZN` input features, as well as the total running time for the full run of 25 folds.  In other words, randomly divide your training dataset (created in 1.2) into 25 equally-sized samples.\n",
    "\n",
    "For each of the 25 iterations (the \"folds\"), use 24 samples as \"training data\" (even though there is no training in k-NN!), and the remaining 1 sample for validation.  Compute the RMSE of that particular validation set, then move on to the next iteration.  \n",
    "\n",
    " - Report the average cross-validated RMSE across the 25 iterations. What do you observe?\n",
    " \n",
    " - Create a histogram of the RMSEs for the folds (there should be 25 of these). Additionally, use a horizontal line to mark the average cross-validated RMSE.\n",
    "\n",
    "\n",
    "[1]: http://en.wikipedia.org/wiki/Cross-validation_(statistics)\n",
    "[2]: http://scikit-learn.org/stable/modules/cross_validation.html#cross-validation\n",
    "\n",
    "\n",
    "\n",
    "NOTE: To perform any randomized operation, only use functions in the *numpy library (np.random)*. Do not use other packages for random functions.\n",
    "\n",
    "HINT: Running 25-fold cross validation might be time-consuming. Try starting with 5 folds."
   ]
  },
  {
   "cell_type": "code",
   "execution_count": 26,
   "metadata": {},
   "outputs": [],
   "source": [
    "def crossval(data,k,model,K):\n",
    "    start_time_total = time.time()\n",
    "    \n",
    "    # splits the data into separate partitions\n",
    "    partitions = [int(x) for x in np.linspace(0, len(data), k+1)]\n",
    "    x_splits = [data[partitions[i]:partitions[i+1]][model] for i in range(len(partitions)-1)]\n",
    "    y_splits = [data[partitions[i]:partitions[i+1]][['MEDV']] for i in range(len(partitions)-1)]\n",
    "    \n",
    "    # caluculated the mean and standard deviation to be used for normalization across all splits\n",
    "    s = np.std(np.array(data[model]), axis=0)\n",
    "    m = np.mean(np.array(data[model]), axis=0)\n",
    "    \n",
    "    rmses = []\n",
    "    for i in range(k): # runs k folds\n",
    "        # defines data splits\n",
    "        x_train = np.concatenate(x_splits[:i] + x_splits[i+1:])\n",
    "        y_train = np.concatenate(y_splits[:i] + y_splits[i+1:])\n",
    "        x_val = np.array(x_splits[i])\n",
    "        y_val = np.array(y_splits[i])\n",
    "        \n",
    "        # normalizes data\n",
    "        x_train_norm = normalize(np.array(x_train),s,m)\n",
    "        x_val_norm = normalize(np.array(x_val),s,m)\n",
    "       \n",
    "        \n",
    "        if K == 0: # runs nearest neighbor function if K is 0\n",
    "            rmse_test, test_pred = nneighbor(x_train_norm,y_train,x_val_norm,y_val, 2)\n",
    "        else: # runs knn otherwise\n",
    "            rmse_test, test_pred = knn(x_train_norm, y_train, x_val_norm, y_val, 2, K)\n",
    "        rmses.append(rmse_test)\n",
    "        \n",
    "    print(\"Total time taken: {:.2f} seconds\".format(time.time() - start_time_total))\n",
    "    return rmses"
   ]
  },
  {
   "cell_type": "code",
   "execution_count": 27,
   "metadata": {},
   "outputs": [
    {
     "name": "stdout",
     "output_type": "stream",
     "text": [
      "Time taken: 0.00 seconds\n",
      "Time taken: 0.00 seconds\n",
      "Time taken: 0.00 seconds\n",
      "Time taken: 0.00 seconds\n",
      "Time taken: 0.00 seconds\n",
      "Time taken: 0.00 seconds\n",
      "Time taken: 0.00 seconds\n",
      "Time taken: 0.00 seconds\n",
      "Time taken: 0.00 seconds\n",
      "Time taken: 0.00 seconds\n",
      "Time taken: 0.00 seconds\n",
      "Time taken: 0.00 seconds\n",
      "Time taken: 0.00 seconds\n",
      "Time taken: 0.00 seconds\n",
      "Time taken: 0.00 seconds\n",
      "Time taken: 0.00 seconds\n",
      "Time taken: 0.00 seconds\n",
      "Time taken: 0.00 seconds\n",
      "Time taken: 0.00 seconds\n",
      "Time taken: 0.00 seconds\n",
      "Time taken: 0.00 seconds\n",
      "Time taken: 0.00 seconds\n",
      "Time taken: 0.00 seconds\n",
      "Time taken: 0.00 seconds\n",
      "Time taken: 0.00 seconds\n",
      "Total time taken: 0.03 seconds\n"
     ]
    }
   ],
   "source": [
    "# Report the average cross-validated RMSE across the 25 iterations. What do you observe?\n",
    "rmses = crossval(bdata_train,25,['CRIM','RM','ZN'],0)"
   ]
  },
  {
   "cell_type": "code",
   "execution_count": 28,
   "metadata": {},
   "outputs": [
    {
     "name": "stdout",
     "output_type": "stream",
     "text": [
      "6.800408907307364\n"
     ]
    }
   ],
   "source": [
    "# Report the average cross-validated RMSE across the 25 iterations. What do you observe?\n",
    "avg = np.mean(np.array(rmses))\n",
    "print(avg)"
   ]
  },
  {
   "cell_type": "markdown",
   "metadata": {},
   "source": [
    "Running nearest neighbors under cross validation seems to return a lower average RMSE (6.80) across the 25 iterations than running nearest neighbors alone on the test set. Could indicate that we might get a lower RMSE when we train with cross validation before running an algorithm on our test set."
   ]
  },
  {
   "cell_type": "code",
   "execution_count": 29,
   "metadata": {},
   "outputs": [
    {
     "data": {
      "image/png": "[encoded data removed]",
      "text/plain": [
       "<Figure size 432x288 with 1 Axes>"
      ]
     },
     "metadata": {
      "needs_background": "light"
     },
     "output_type": "display_data"
    }
   ],
   "source": [
    "#Create a histogram of the RMSEs for the folds (there should be 25 of these). \n",
    "#Additionally, use a horizontal line to mark the average cross-validated RMSE.\n",
    "\n",
    "plt.hist(rmses, facecolor='thistle', edgecolor='white')\n",
    "plt.axvline(x=avg)\n",
    "\n",
    "plt.xlabel(\"RMSE Value\")\n",
    "plt.ylabel(\"Frequency\")\n",
    "plt.title(\"RMSE Across 25 folds\")\n",
    "\n",
    "#polishing\n",
    "ax = plt.gca()\n",
    "ax.spines['right'].set_color('none')\n",
    "ax.spines['top'].set_color('none')\n",
    "ax.yaxis.set_ticks_position('none')\n",
    "ax.xaxis.set_ticks_position('none')"
   ]
  },
  {
   "cell_type": "markdown",
   "metadata": {},
   "source": [
    "### 2.6 K-Nearest Neighbors Algorithm\n",
    "\n",
    "Implement the K-Nearest Neighbors algorithm.  Use 10-fold cross validation and L2 normalization, and the same features as in 2.5. Report the RMSE for K=5 and the running time of the algorithm. What do you observe?"
   ]
  },
  {
   "cell_type": "code",
   "execution_count": 30,
   "metadata": {
    "jupyter": {
     "outputs_hidden": true
    }
   },
   "outputs": [],
   "source": [
    "\"\"\"\n",
    "Function\n",
    "--------\n",
    "K-Nearest Neighbors\n",
    "\n",
    "Implementation of nearest neighbors algorithm.\n",
    "\n",
    "Parameters\n",
    "----------\n",
    "x_train: array\n",
    "    Array of numerical feature values for training the model.\n",
    "y_train: array\n",
    "    Array of numerical output values for training the model.\n",
    "x_test: array\n",
    "    Array of numerical feature values for testing the model.\n",
    "y_test: array\n",
    "    Array of numerical output values for testing the model.\n",
    "L: int\n",
    "    Order of L-norm function used for calculating distance.\n",
    "K: int\n",
    "    Neighbors to include in algorithm\n",
    "    \n",
    "Returns\n",
    "-------\n",
    "rmse : int\n",
    "    Value of the RMSE from data.\n",
    "\"\"\"\n",
    "\n",
    "def knn(x_train, y_train, x_test, y_test, L, K):\n",
    "    start_time = time.time()\n",
    "    pred = []\n",
    "    for i in range(len(x_test)):\n",
    "        # finds the distances\n",
    "        dists = distance(np.array(x_test[i]), np.array(x_train), L)\n",
    "        # finds the average of the K nearest distances\n",
    "        avg = [np.array(y_train[np.argsort(dists)[:K]].mean())]\n",
    "        pred.append(avg) \n",
    "    # computes RMSE    \n",
    "    rmse = compute_rmse(np.array(pred), np.array(y_test))\n",
    "    print(\"Time taken: {:.2f} seconds\".format(time.time() - start_time))\n",
    "    return rmse, pred"
   ]
  },
  {
   "cell_type": "code",
   "execution_count": 31,
   "metadata": {},
   "outputs": [
    {
     "name": "stdout",
     "output_type": "stream",
     "text": [
      "Time taken: 0.00 seconds\n",
      "Time taken: 0.00 seconds\n",
      "Time taken: 0.00 seconds\n",
      "Time taken: 0.00 seconds\n",
      "Time taken: 0.00 seconds\n",
      "Time taken: 0.00 seconds\n",
      "Time taken: 0.00 seconds\n",
      "Time taken: 0.00 seconds\n",
      "Time taken: 0.00 seconds\n",
      "Time taken: 0.00 seconds\n",
      "Total time taken: 0.03 seconds\n"
     ]
    }
   ],
   "source": [
    "# Report the RMSE for K=5 and the running time of the algorithm. What do you observe?\n",
    "rmses = crossval(bdata_train,10,['CRIM','RM','ZN'],5)"
   ]
  },
  {
   "cell_type": "code",
   "execution_count": 32,
   "metadata": {},
   "outputs": [
    {
     "name": "stdout",
     "output_type": "stream",
     "text": [
      "5.23747187990516\n"
     ]
    }
   ],
   "source": [
    "# Report the RMSE for K=5 and the running time of the algorithm. What do you observe?\n",
    "avg = np.mean(np.array(rmses))\n",
    "print(avg)"
   ]
  },
  {
   "cell_type": "markdown",
   "metadata": {},
   "source": [
    "We can see that the average RMSE for KNN (5.23) is lower than the average RMSE for NN (6.80), which implies KNN will be a better algorithm for our data."
   ]
  },
  {
   "cell_type": "markdown",
   "metadata": {},
   "source": [
    "### 2.7 Using cross validation to find K\n",
    "\n",
    "Compute the cross-validated RMSE for values of K between 1 and 25 using 10-fold cross-validation and L2 normalization.  Use the following features in your model: `CRIM, ZN, RM, AGE, DIS, TAX`.  Create a graph that shows how cross-validated RMSE changes as K increases from 1 to 25.  Label your axes, and summarize what you see.  What do you think is a reasonable choice of K for this model?\n",
    "\n",
    "Finally, report the test RMSE using the value of K that minimized the cross-validated RMSE. (Continue to use L2 normalization and the same set of features). How does the test RMSE compare to the cross-validated RMSE, and is this what you expected? How does the test RMSE compare to the test RMSE from 2.4, and is this what you expected?"
   ]
  },
  {
   "cell_type": "code",
   "execution_count": 33,
   "metadata": {
    "jupyter": {
     "outputs_hidden": true
    }
   },
   "outputs": [
    {
     "name": "stdout",
     "output_type": "stream",
     "text": [
      "Time taken: 0.00 seconds\n",
      "Time taken: 0.00 seconds\n",
      "Time taken: 0.00 seconds\n",
      "Time taken: 0.00 seconds\n",
      "Time taken: 0.00 seconds\n",
      "Time taken: 0.00 seconds\n",
      "Time taken: 0.00 seconds\n",
      "Time taken: 0.00 seconds\n",
      "Time taken: 0.00 seconds\n",
      "Time taken: 0.00 seconds\n",
      "Total time taken: 0.03 seconds\n",
      "Time taken: 0.00 seconds\n",
      "Time taken: 0.00 seconds\n",
      "Time taken: 0.00 seconds\n",
      "Time taken: 0.00 seconds\n",
      "Time taken: 0.00 seconds\n",
      "Time taken: 0.00 seconds\n",
      "Time taken: 0.00 seconds\n",
      "Time taken: 0.00 seconds\n",
      "Time taken: 0.00 seconds\n",
      "Time taken: 0.00 seconds\n",
      "Total time taken: 0.02 seconds\n",
      "Time taken: 0.00 seconds\n",
      "Time taken: 0.00 seconds\n",
      "Time taken: 0.00 seconds\n",
      "Time taken: 0.00 seconds\n",
      "Time taken: 0.00 seconds\n",
      "Time taken: 0.00 seconds\n",
      "Time taken: 0.00 seconds\n",
      "Time taken: 0.00 seconds\n",
      "Time taken: 0.00 seconds\n",
      "Time taken: 0.00 seconds\n",
      "Total time taken: 0.02 seconds\n",
      "Time taken: 0.00 seconds\n",
      "Time taken: 0.00 seconds\n",
      "Time taken: 0.00 seconds\n",
      "Time taken: 0.00 seconds\n",
      "Time taken: 0.00 seconds\n",
      "Time taken: 0.00 seconds\n",
      "Time taken: 0.00 seconds\n",
      "Time taken: 0.00 seconds\n",
      "Time taken: 0.00 seconds\n",
      "Time taken: 0.00 seconds\n",
      "Total time taken: 0.02 seconds\n",
      "Time taken: 0.00 seconds\n",
      "Time taken: 0.00 seconds\n",
      "Time taken: 0.00 seconds\n",
      "Time taken: 0.00 seconds\n",
      "Time taken: 0.00 seconds\n",
      "Time taken: 0.00 seconds\n",
      "Time taken: 0.00 seconds\n",
      "Time taken: 0.00 seconds\n",
      "Time taken: 0.00 seconds\n",
      "Time taken: 0.00 seconds\n",
      "Total time taken: 0.02 seconds\n",
      "Time taken: 0.00 seconds\n",
      "Time taken: 0.00 seconds\n",
      "Time taken: 0.00 seconds\n",
      "Time taken: 0.00 seconds\n",
      "Time taken: 0.00 seconds\n",
      "Time taken: 0.00 seconds\n",
      "Time taken: 0.00 seconds\n",
      "Time taken: 0.00 seconds\n",
      "Time taken: 0.00 seconds\n",
      "Time taken: 0.00 seconds\n",
      "Total time taken: 0.02 seconds\n",
      "Time taken: 0.00 seconds\n",
      "Time taken: 0.00 seconds\n",
      "Time taken: 0.00 seconds\n",
      "Time taken: 0.00 seconds\n",
      "Time taken: 0.00 seconds\n",
      "Time taken: 0.00 seconds\n",
      "Time taken: 0.00 seconds\n",
      "Time taken: 0.00 seconds\n",
      "Time taken: 0.00 seconds\n",
      "Time taken: 0.00 seconds\n",
      "Total time taken: 0.02 seconds\n",
      "Time taken: 0.00 seconds\n",
      "Time taken: 0.00 seconds\n",
      "Time taken: 0.00 seconds\n",
      "Time taken: 0.00 seconds\n",
      "Time taken: 0.00 seconds\n",
      "Time taken: 0.00 seconds\n",
      "Time taken: 0.00 seconds\n",
      "Time taken: 0.00 seconds\n",
      "Time taken: 0.00 seconds\n",
      "Time taken: 0.00 seconds\n",
      "Total time taken: 0.02 seconds\n",
      "Time taken: 0.00 seconds\n",
      "Time taken: 0.00 seconds\n",
      "Time taken: 0.00 seconds\n",
      "Time taken: 0.00 seconds\n",
      "Time taken: 0.00 seconds\n",
      "Time taken: 0.00 seconds\n",
      "Time taken: 0.00 seconds\n",
      "Time taken: 0.00 seconds\n",
      "Time taken: 0.00 seconds\n",
      "Time taken: 0.00 seconds\n",
      "Total time taken: 0.03 seconds\n",
      "Time taken: 0.00 seconds\n",
      "Time taken: 0.00 seconds\n",
      "Time taken: 0.00 seconds\n",
      "Time taken: 0.00 seconds\n",
      "Time taken: 0.00 seconds\n",
      "Time taken: 0.00 seconds\n",
      "Time taken: 0.00 seconds\n",
      "Time taken: 0.00 seconds\n",
      "Time taken: 0.00 seconds\n",
      "Time taken: 0.00 seconds\n",
      "Total time taken: 0.02 seconds\n",
      "Time taken: 0.00 seconds\n",
      "Time taken: 0.00 seconds\n",
      "Time taken: 0.00 seconds\n",
      "Time taken: 0.00 seconds\n",
      "Time taken: 0.00 seconds\n",
      "Time taken: 0.00 seconds\n",
      "Time taken: 0.00 seconds\n",
      "Time taken: 0.00 seconds\n",
      "Time taken: 0.00 seconds\n",
      "Time taken: 0.00 seconds\n",
      "Total time taken: 0.02 seconds\n",
      "Time taken: 0.00 seconds\n",
      "Time taken: 0.00 seconds\n",
      "Time taken: 0.00 seconds\n",
      "Time taken: 0.00 seconds\n",
      "Time taken: 0.00 seconds\n",
      "Time taken: 0.00 seconds\n",
      "Time taken: 0.00 seconds\n",
      "Time taken: 0.00 seconds\n",
      "Time taken: 0.00 seconds\n",
      "Time taken: 0.00 seconds\n",
      "Total time taken: 0.03 seconds\n",
      "Time taken: 0.00 seconds\n",
      "Time taken: 0.00 seconds\n",
      "Time taken: 0.00 seconds\n",
      "Time taken: 0.00 seconds\n",
      "Time taken: 0.00 seconds\n",
      "Time taken: 0.00 seconds\n",
      "Time taken: 0.00 seconds\n",
      "Time taken: 0.00 seconds\n",
      "Time taken: 0.00 seconds\n",
      "Time taken: 0.00 seconds\n",
      "Total time taken: 0.02 seconds\n",
      "Time taken: 0.00 seconds\n",
      "Time taken: 0.00 seconds\n",
      "Time taken: 0.00 seconds\n",
      "Time taken: 0.00 seconds\n",
      "Time taken: 0.00 seconds\n",
      "Time taken: 0.00 seconds\n",
      "Time taken: 0.00 seconds\n",
      "Time taken: 0.00 seconds\n",
      "Time taken: 0.00 seconds\n",
      "Time taken: 0.00 seconds\n",
      "Total time taken: 0.02 seconds\n",
      "Time taken: 0.00 seconds\n",
      "Time taken: 0.00 seconds\n",
      "Time taken: 0.00 seconds\n",
      "Time taken: 0.00 seconds\n",
      "Time taken: 0.00 seconds\n",
      "Time taken: 0.00 seconds\n",
      "Time taken: 0.00 seconds\n",
      "Time taken: 0.00 seconds\n",
      "Time taken: 0.00 seconds\n",
      "Time taken: 0.00 seconds\n",
      "Total time taken: 0.02 seconds\n",
      "Time taken: 0.00 seconds\n",
      "Time taken: 0.00 seconds\n",
      "Time taken: 0.00 seconds\n",
      "Time taken: 0.00 seconds\n",
      "Time taken: 0.00 seconds\n",
      "Time taken: 0.00 seconds\n",
      "Time taken: 0.00 seconds\n",
      "Time taken: 0.00 seconds\n",
      "Time taken: 0.00 seconds\n",
      "Time taken: 0.00 seconds\n",
      "Total time taken: 0.02 seconds\n",
      "Time taken: 0.00 seconds\n",
      "Time taken: 0.00 seconds\n",
      "Time taken: 0.00 seconds\n",
      "Time taken: 0.00 seconds\n",
      "Time taken: 0.00 seconds\n",
      "Time taken: 0.00 seconds\n",
      "Time taken: 0.00 seconds\n",
      "Time taken: 0.00 seconds\n",
      "Time taken: 0.00 seconds\n",
      "Time taken: 0.00 seconds\n",
      "Total time taken: 0.02 seconds\n",
      "Time taken: 0.00 seconds\n",
      "Time taken: 0.00 seconds\n",
      "Time taken: 0.00 seconds\n",
      "Time taken: 0.00 seconds\n",
      "Time taken: 0.00 seconds\n",
      "Time taken: 0.00 seconds\n",
      "Time taken: 0.00 seconds\n",
      "Time taken: 0.00 seconds\n",
      "Time taken: 0.00 seconds\n",
      "Time taken: 0.00 seconds\n",
      "Total time taken: 0.02 seconds\n",
      "Time taken: 0.00 seconds\n",
      "Time taken: 0.00 seconds\n",
      "Time taken: 0.00 seconds\n",
      "Time taken: 0.00 seconds\n",
      "Time taken: 0.00 seconds\n",
      "Time taken: 0.00 seconds\n",
      "Time taken: 0.00 seconds\n",
      "Time taken: 0.00 seconds\n",
      "Time taken: 0.00 seconds\n",
      "Time taken: 0.00 seconds\n",
      "Total time taken: 0.02 seconds\n",
      "Time taken: 0.00 seconds\n",
      "Time taken: 0.00 seconds\n",
      "Time taken: 0.00 seconds\n",
      "Time taken: 0.00 seconds\n",
      "Time taken: 0.00 seconds\n",
      "Time taken: 0.00 seconds\n",
      "Time taken: 0.00 seconds\n",
      "Time taken: 0.00 seconds\n",
      "Time taken: 0.00 seconds\n",
      "Time taken: 0.00 seconds\n",
      "Total time taken: 0.02 seconds\n",
      "Time taken: 0.00 seconds\n",
      "Time taken: 0.00 seconds\n",
      "Time taken: 0.00 seconds\n",
      "Time taken: 0.00 seconds\n",
      "Time taken: 0.00 seconds\n",
      "Time taken: 0.00 seconds\n",
      "Time taken: 0.00 seconds\n",
      "Time taken: 0.00 seconds\n",
      "Time taken: 0.00 seconds\n",
      "Time taken: 0.00 seconds\n",
      "Total time taken: 0.02 seconds\n",
      "Time taken: 0.00 seconds\n",
      "Time taken: 0.00 seconds\n",
      "Time taken: 0.00 seconds\n",
      "Time taken: 0.00 seconds\n",
      "Time taken: 0.00 seconds\n",
      "Time taken: 0.00 seconds\n",
      "Time taken: 0.00 seconds\n",
      "Time taken: 0.00 seconds\n",
      "Time taken: 0.00 seconds\n",
      "Time taken: 0.00 seconds\n",
      "Total time taken: 0.02 seconds\n",
      "Time taken: 0.00 seconds\n",
      "Time taken: 0.00 seconds\n",
      "Time taken: 0.00 seconds\n",
      "Time taken: 0.00 seconds\n",
      "Time taken: 0.00 seconds\n",
      "Time taken: 0.00 seconds\n",
      "Time taken: 0.00 seconds\n",
      "Time taken: 0.00 seconds\n",
      "Time taken: 0.00 seconds\n",
      "Time taken: 0.00 seconds\n",
      "Total time taken: 0.02 seconds\n",
      "Time taken: 0.00 seconds\n",
      "Time taken: 0.00 seconds\n",
      "Time taken: 0.00 seconds\n",
      "Time taken: 0.00 seconds\n",
      "Time taken: 0.00 seconds\n",
      "Time taken: 0.00 seconds\n",
      "Time taken: 0.00 seconds\n",
      "Time taken: 0.00 seconds\n",
      "Time taken: 0.00 seconds\n",
      "Time taken: 0.00 seconds\n",
      "Total time taken: 0.02 seconds\n",
      "Time taken: 0.00 seconds\n",
      "Time taken: 0.00 seconds\n",
      "Time taken: 0.00 seconds\n",
      "Time taken: 0.00 seconds\n",
      "Time taken: 0.00 seconds\n",
      "Time taken: 0.00 seconds\n",
      "Time taken: 0.00 seconds\n",
      "Time taken: 0.00 seconds\n",
      "Time taken: 0.00 seconds\n",
      "Time taken: 0.00 seconds\n",
      "Total time taken: 0.02 seconds\n"
     ]
    }
   ],
   "source": [
    "rmses = []\n",
    "for i in range(1,26):\n",
    "    rmse = crossval(bdata_train,10,['CRIM','ZN','RM','AGE','DIS','TAX'],i)\n",
    "    rmses.append(np.mean(np.array(rmse)))\n"
   ]
  },
  {
   "cell_type": "code",
   "execution_count": 34,
   "metadata": {},
   "outputs": [
    {
     "data": {
      "image/png": "[encoded data removed]",
      "text/plain": [
       "<Figure size 432x288 with 1 Axes>"
      ]
     },
     "metadata": {
      "needs_background": "light"
     },
     "output_type": "display_data"
    },
    {
     "name": "stdout",
     "output_type": "stream",
     "text": [
      "4.924371375718152\n",
      "Best choice of K: 4\n"
     ]
    }
   ],
   "source": [
    "# Create a graph that shows how cross-validated RMSE changes as K increases from 1 to 25. \n",
    "# Label your axes, and summarize what you see. What do you think is a reasonable choice of K for this model?\n",
    "y = np.arange(1, 26, 1)\n",
    "plt.figure()\n",
    "plt.bar(y, rmses, facecolor='thistle', edgecolor='white')\n",
    "\n",
    "plt.xlabel(\"Number of Neighbors\")\n",
    "plt.ylabel(\"RMSE Value\")\n",
    "plt.title(\"RMSE Change as Number of Neighbors Increases\")\n",
    "\n",
    "#polishing\n",
    "ax = plt.gca()\n",
    "ax.spines['right'].set_color('none')\n",
    "ax.spines['top'].set_color('none')\n",
    "ax.yaxis.set_ticks_position('none')\n",
    "ax.xaxis.set_ticks_position('none')\n",
    "\n",
    "plt.show()\n",
    "\n",
    "print(min(rmses))\n",
    "print(\"Best choice of K: \" + str(rmses.index(min(rmses))+1))"
   ]
  },
  {
   "cell_type": "markdown",
   "metadata": {},
   "source": [
    "It looks like the minimum RMSE value occurs at K = 4, which is verified by taking the index of the minimum value of our rmses array returned by our cross validation function"
   ]
  },
  {
   "cell_type": "code",
   "execution_count": 35,
   "metadata": {},
   "outputs": [
    {
     "name": "stdout",
     "output_type": "stream",
     "text": [
      "Time taken: 0.01 seconds\n",
      "6.001738183265948\n"
     ]
    }
   ],
   "source": [
    "# report the test RMSE using the value of K that minimized the cross-validated RMSE\n",
    "s = np.std(np.array(bdata_train[['CRIM','ZN','RM','AGE','DIS','TAX']]), axis=0)\n",
    "m = np.mean(np.array(bdata_train[['CRIM','ZN','RM','AGE','DIS','TAX']]), axis=0)\n",
    "\n",
    "x_train = normalize(bdata_train[['CRIM','ZN','RM','AGE','DIS','TAX']], s,m)\n",
    "x_test = normalize(bdata_test[['CRIM','ZN','RM','AGE','DIS','TAX']], s,m)\n",
    "\n",
    "rmse, pred = knn(np.array(x_train), np.array(bdata_train[['MEDV']]), np.array(x_test), np.array(bdata_test[['MEDV']]), 2, 4)\n",
    "print(rmse)"
   ]
  },
  {
   "cell_type": "markdown",
   "metadata": {},
   "source": [
    "How does the test RMSE compare to the cross-validated RMSE, and is this what you expected? How does the test RMSE compare to the test RMSE from 2.4, and is this what you expected?\n",
    "\n",
    "Our test RMSE (6.00) is higher than our cross-validated RMSE (4.92) and . This is to be expected, as we are using more data to find the neighbors and we are using every value in our training set to validate, thus we have a lower RMSE in cross validation.\n",
    "\n",
    "Our test RMSE (6.00) is also higher than our best RMSE from  2.4 (5.91). This could be because the features chosen LSTAT, INDUS, RM, ZN, and TAX perform better than the features selected here: CRIM, ZN, RM, AGE, DIS, TAX. We also used a different distance measure in 2.4 (Manhattan difference) where we used the Euclidean difference here. This could also potentially indicate that nearest neighbors performs better than KNN for our data."
   ]
  },
  {
   "cell_type": "markdown",
   "metadata": {},
   "source": [
    "### Extra-Credit: Forward selection\n",
    "\n",
    "Thus far the choice of predictor variables has been rather arbitrary. For extra credit, implement a basic [forward selection](https://see.stanford.edu/materials/aimlcs229/cs229-notes5.pdf) algorithm to progressively include features that decrease the cross-validated RMSE of the model. Note that the optimal value of K may be different for each model, so you may want to use cross-validation to choose K each time (but it is also fine if you fix K at the optimal value from 2.7).  Create a graph that shows RMSE as a function of the number of features in the model. Label each point on the x-axis with the name of the feature that is added at that step in the forward selection algorithm. *(For instance, if the optimal single-feature model has CRIM with RMSE = 10, and the optimal two-feature model has CRIM+ZN with RMSE=9, the first x-axis label will say CRIM and the second x-axis lable with say ZN)*"
   ]
  },
  {
   "cell_type": "code",
   "execution_count": 36,
   "metadata": {
    "jupyter": {
     "outputs_hidden": true
    }
   },
   "outputs": [],
   "source": [
    "# enter your code here"
   ]
  }
 ],
 "metadata": {
  "kernelspec": {
   "display_name": "Python 3",
   "language": "python",
   "name": "python3"
  },
  "language_info": {
   "codemirror_mode": {
    "name": "ipython",
    "version": 3
   },
   "file_extension": ".py",
   "mimetype": "text/x-python",
   "name": "python",
   "nbconvert_exporter": "python",
   "pygments_lexer": "ipython3",
   "version": "3.8.8"
  }
 },
 "nbformat": 4,
 "nbformat_minor": 4
}
